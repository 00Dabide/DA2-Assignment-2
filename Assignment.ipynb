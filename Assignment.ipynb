{
 "cells": [
  {
   "cell_type": "code",
   "execution_count": 4,
   "metadata": {},
   "outputs": [],
   "source": [
    "import os\n",
    "import sys\n",
    "import warnings\n",
    "\n",
    "import numpy as np\n",
    "import pandas as pd\n",
    "from mizani.formatters import percent_format\n",
    "from plotnine import *\n",
    "from datetime import datetime\n",
    "import statsmodels.api as sm\n",
    "import statsmodels.formula.api as smf\n",
    "from scipy.stats import norm\n",
    "from IPython.core.display import HTML\n",
    "from stargazer.stargazer import Stargazer\n",
    "import statsmodels.nonparametric.kernel_regression as loess\n",
    "\n",
    "from mizani.transforms import log_trans\n",
    "from mizani.formatters import percent_format\n",
    "from mizani.formatters import log_format\n",
    "\n",
    "warnings.filterwarnings(\"ignore\")"
   ]
  },
  {
   "cell_type": "markdown",
   "metadata": {},
   "source": [
    "# 1 Cleaning the dataframe"
   ]
  },
  {
   "cell_type": "code",
   "execution_count": 21,
   "metadata": {},
   "outputs": [
    {
     "data": {
      "text/plain": [
       "True     1681\n",
       "False     885\n",
       "Name: highly_rated, dtype: int64"
      ]
     },
     "execution_count": 21,
     "metadata": {},
     "output_type": "execute_result"
    }
   ],
   "source": [
    "features = pd.read_csv(\"hotels-europe_features.csv\")\n",
    "price = pd.read_csv(\"hotels-europe_price.csv\")\n",
    "\n",
    "# Merge the two dataframe\n",
    "data = features.merge(price, on=\"hotel_id\")\n",
    "\n",
    "# Get the city Moscow\n",
    "data = data.loc[data[\"city\"] == \"Moscow\"]\n",
    "\n",
    "# Only observations with ratings\n",
    "data = data.dropna(subset=[\"rating\"])\n",
    "\n",
    "# Binary variable for highly_rated (1 if rating >= 4)\n",
    "data[\"highly_rated\"] = data[\"rating\"] >= 4\n",
    "\n",
    "data[\"highly_rated\"].value_counts()"
   ]
  },
  {
   "cell_type": "code",
   "execution_count": null,
   "metadata": {},
   "outputs": [],
   "source": []
  }
 ],
 "metadata": {
  "kernelspec": {
   "display_name": "base",
   "language": "python",
   "name": "python3"
  },
  "language_info": {
   "codemirror_mode": {
    "name": "ipython",
    "version": 3
   },
   "file_extension": ".py",
   "mimetype": "text/x-python",
   "name": "python",
   "nbconvert_exporter": "python",
   "pygments_lexer": "ipython3",
   "version": "3.11.4"
  }
 },
 "nbformat": 4,
 "nbformat_minor": 2
}
