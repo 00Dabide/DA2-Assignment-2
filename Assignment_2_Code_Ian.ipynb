{
 "cells": [
  {
   "cell_type": "code",
   "execution_count": 1,
   "id": "19fd4fdb-7ac7-490a-814f-eb1915b37f3e",
   "metadata": {
    "tags": []
   },
   "outputs": [],
   "source": [
    "import pandas as pd\n",
    "\n",
    "# Read the CSVs into a variable\n",
    "price_data = pd.read_csv('hotels-europe_price.csv')\n",
    "features_data = pd.read_csv('hotels-europe_features.csv')"
   ]
  },
  {
   "cell_type": "code",
   "execution_count": 2,
   "id": "ad46003f-c7c6-4fd9-bf53-3dbf73c7b17e",
   "metadata": {
    "tags": []
   },
   "outputs": [],
   "source": [
    "# merge the two datasets with the key 'hotel_id'\n",
    "merged_hotel_data = pd.merge(price_data, features_data, on='hotel_id')"
   ]
  },
  {
   "cell_type": "code",
   "execution_count": 3,
   "id": "d0beff7d-71ea-4426-9f8c-83e12c18e4b9",
   "metadata": {
    "tags": []
   },
   "outputs": [],
   "source": [
    "# convert accommodation_type and city_actual to string so that it can be filtered\n",
    "merged_hotel_data['accommodation_type'] = merged_hotel_data['accommodation_type'].astype('string')\n",
    "merged_hotel_data['city_actual']=merged_hotel_data['city'].astype('string')"
   ]
  },
  {
   "cell_type": "code",
   "execution_count": 4,
   "id": "b1956d3a-9876-42fd-a210-b87ae0d079a8",
   "metadata": {
    "tags": []
   },
   "outputs": [],
   "source": [
    "# drop duplicate values for cleaning purposes\n",
    "merged_hotel_data = merged_hotel_data.drop_duplicates()"
   ]
  },
  {
   "cell_type": "code",
   "execution_count": null,
   "id": "388b30d1-1030-41b3-afdf-70f4f4741723",
   "metadata": {},
   "outputs": [],
   "source": [
    "# filter the merged data with the specified filters\n",
    "merged_hotel_data_moscow = merged_hotel_data.loc[(merged_hotel_data[\"city\"].isin(['Vienna','Moscow']))\n",
    "                                                  ]\n",
    "merged_hotel_data_filtered"
   ]
  }
 ],
 "metadata": {
  "kernelspec": {
   "display_name": "Python 3 (ipykernel)",
   "language": "python",
   "name": "python3"
  },
  "language_info": {
   "codemirror_mode": {
    "name": "ipython",
    "version": 3
   },
   "file_extension": ".py",
   "mimetype": "text/x-python",
   "name": "python",
   "nbconvert_exporter": "python",
   "pygments_lexer": "ipython3",
   "version": "3.11.4"
  }
 },
 "nbformat": 4,
 "nbformat_minor": 5
}
