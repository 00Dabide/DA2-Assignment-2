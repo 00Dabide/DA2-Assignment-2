{
 "cells": [
  {
   "cell_type": "code",
   "execution_count": 1,
   "metadata": {},
   "outputs": [],
   "source": [
    "import os\n",
    "import sys\n",
    "import warnings\n",
    "\n",
    "import numpy as np\n",
    "import pandas as pd\n",
    "import matplotlib.pyplot as plt\n",
    "from mizani.formatters import percent_format\n",
    "from plotnine import *\n",
    "from datetime import datetime\n",
    "import statsmodels.api as sm\n",
    "import statsmodels.formula.api as smf\n",
    "from scipy.stats import norm\n",
    "from IPython.core.display import HTML\n",
    "from stargazer.stargazer import Stargazer\n",
    "import statsmodels.nonparametric.kernel_regression as loess\n",
    "\n",
    "from mizani.transforms import log_trans\n",
    "from mizani.formatters import percent_format\n",
    "from mizani.formatters import log_format"
   ]
  },
  {
   "cell_type": "markdown",
   "metadata": {},
   "source": [
    "# 1.: Cleaning the dataframe"
   ]
  },
  {
   "cell_type": "markdown",
   "metadata": {},
   "source": [
    "## Merge"
   ]
  },
  {
   "cell_type": "code",
   "execution_count": 2,
   "metadata": {},
   "outputs": [],
   "source": [
    "# Read the CSVs into a variable\n",
    "price_data = pd.read_csv('hotels-europe_price.csv')\n",
    "features_data = pd.read_csv('hotels-europe_features.csv')"
   ]
  },
  {
   "cell_type": "code",
   "execution_count": 3,
   "metadata": {},
   "outputs": [],
   "source": [
    "# merge the two datasets with the key 'hotel_id'\n",
    "merged_hotel_data = pd.merge(price_data, features_data, on='hotel_id')"
   ]
  },
  {
   "cell_type": "code",
   "execution_count": 4,
   "metadata": {},
   "outputs": [],
   "source": [
    "# filter the merged data for Moscow\n",
    "merged_hotel_data_moscow = merged_hotel_data.loc[merged_hotel_data[\"city\"] == \"Moscow\"]"
   ]
  },
  {
   "cell_type": "markdown",
   "metadata": {},
   "source": [
    "## Ratings Data Cleaning"
   ]
  },
  {
   "cell_type": "code",
   "execution_count": 5,
   "metadata": {},
   "outputs": [
    {
     "name": "stdout",
     "output_type": "stream",
     "text": [
      "Number of null values in the 'rating' column: 792\n"
     ]
    }
   ],
   "source": [
    "# Step 1: Identify the number of null values in the 'rating' column\n",
    "null_count = merged_hotel_data_moscow['rating'].isnull().sum()\n",
    "print(f\"Number of null values in the 'rating' column: {null_count}\")"
   ]
  },
  {
   "cell_type": "code",
   "execution_count": 6,
   "metadata": {},
   "outputs": [
    {
     "name": "stderr",
     "output_type": "stream",
     "text": [
      "C:\\Users\\Szabados\\AppData\\Local\\Temp\\ipykernel_8952\\2179072277.py:2: SettingWithCopyWarning: \n",
      "A value is trying to be set on a copy of a slice from a DataFrame\n",
      "\n",
      "See the caveats in the documentation: https://pandas.pydata.org/pandas-docs/stable/user_guide/indexing.html#returning-a-view-versus-a-copy\n"
     ]
    }
   ],
   "source": [
    "# Step 2: Transform null values to 0\n",
    "merged_hotel_data_moscow['rating'].fillna('NULL', inplace=True)"
   ]
  },
  {
   "cell_type": "code",
   "execution_count": 7,
   "metadata": {},
   "outputs": [
    {
     "name": "stdout",
     "output_type": "stream",
     "text": [
      "0\n"
     ]
    }
   ],
   "source": [
    "# Optionally, verify the transformation\n",
    "print(merged_hotel_data_moscow['rating'].isnull().sum())  # Should output 0"
   ]
  },
  {
   "cell_type": "code",
   "execution_count": 8,
   "metadata": {},
   "outputs": [
    {
     "name": "stdout",
     "output_type": "stream",
     "text": [
      "Number of rows with 'rating' as 'NULL': 0\n"
     ]
    }
   ],
   "source": [
    "# Drop rows where 'rating_reviewcount' is 'NULL'\n",
    "merged_hotel_data_moscow = merged_hotel_data_moscow[merged_hotel_data_moscow['rating'] != 'NULL']\n",
    "\n",
    "# Optionally, verify the operation\n",
    "print(f\"Number of rows with 'rating' as 'NULL': {len(merged_hotel_data_moscow[merged_hotel_data_moscow['rating'] == 'NULL'])}\")"
   ]
  },
  {
   "cell_type": "markdown",
   "metadata": {},
   "source": [
    "## `rating_reviewcount` cleaning"
   ]
  },
  {
   "cell_type": "code",
   "execution_count": 9,
   "metadata": {},
   "outputs": [
    {
     "name": "stdout",
     "output_type": "stream",
     "text": [
      "Number of null values in the 'rating' column: 0\n"
     ]
    }
   ],
   "source": [
    "# Step 1: Identify the number of null values in the 'rating' column\n",
    "null_count = merged_hotel_data_moscow['rating_reviewcount'].isnull().sum()\n",
    "print(f\"Number of null values in the 'rating' column: {null_count}\")"
   ]
  },
  {
   "cell_type": "code",
   "execution_count": 10,
   "metadata": {},
   "outputs": [],
   "source": [
    "# Step 2: Transform null values to 0\n",
    "merged_hotel_data_moscow['rating_reviewcount'].fillna('NULL', inplace=True)"
   ]
  },
  {
   "cell_type": "code",
   "execution_count": 11,
   "metadata": {},
   "outputs": [
    {
     "name": "stdout",
     "output_type": "stream",
     "text": [
      "0\n"
     ]
    }
   ],
   "source": [
    "# Optionally, verify the transformation\n",
    "print(merged_hotel_data_moscow['rating_reviewcount'].isnull().sum())  # Should output 0"
   ]
  },
  {
   "cell_type": "code",
   "execution_count": 12,
   "metadata": {},
   "outputs": [
    {
     "name": "stdout",
     "output_type": "stream",
     "text": [
      "Number of rows with 'rating_reviewcount' as 'NULL': 0\n"
     ]
    }
   ],
   "source": [
    "# Drop rows where 'rating_reviewcount' is 'NULL'\n",
    "merged_hotel_data_moscow = merged_hotel_data_moscow[merged_hotel_data_moscow['rating_reviewcount'] != 'NULL']\n",
    "\n",
    "# Optionally, verify the operation\n",
    "print(f\"Number of rows with 'rating_reviewcount' as 'NULL': {len(merged_hotel_data_moscow[merged_hotel_data_moscow['rating_reviewcount'] == 'NULL'])}\")"
   ]
  },
  {
   "cell_type": "markdown",
   "metadata": {},
   "source": [
    "## Create `highly_rated` column"
   ]
  },
  {
   "cell_type": "code",
   "execution_count": 13,
   "metadata": {},
   "outputs": [
    {
     "data": {
      "text/html": [
       "<div>\n",
       "<style scoped>\n",
       "    .dataframe tbody tr th:only-of-type {\n",
       "        vertical-align: middle;\n",
       "    }\n",
       "\n",
       "    .dataframe tbody tr th {\n",
       "        vertical-align: top;\n",
       "    }\n",
       "\n",
       "    .dataframe thead th {\n",
       "        text-align: right;\n",
       "    }\n",
       "</style>\n",
       "<table border=\"1\" class=\"dataframe\">\n",
       "  <thead>\n",
       "    <tr style=\"text-align: right;\">\n",
       "      <th></th>\n",
       "      <th>hotel_id</th>\n",
       "      <th>price</th>\n",
       "      <th>offer</th>\n",
       "      <th>offer_cat</th>\n",
       "      <th>year</th>\n",
       "      <th>month</th>\n",
       "      <th>weekend</th>\n",
       "      <th>holiday</th>\n",
       "      <th>nnights</th>\n",
       "      <th>scarce_room</th>\n",
       "      <th>...</th>\n",
       "      <th>city_actual</th>\n",
       "      <th>rating_reviewcount</th>\n",
       "      <th>center1label</th>\n",
       "      <th>center2label</th>\n",
       "      <th>neighbourhood</th>\n",
       "      <th>ratingta</th>\n",
       "      <th>ratingta_count</th>\n",
       "      <th>distance_alter</th>\n",
       "      <th>accommodation_type</th>\n",
       "      <th>highly_rated</th>\n",
       "    </tr>\n",
       "  </thead>\n",
       "  <tbody>\n",
       "    <tr>\n",
       "      <th>77578</th>\n",
       "      <td>10947</td>\n",
       "      <td>59</td>\n",
       "      <td>1</td>\n",
       "      <td>15-50% offer</td>\n",
       "      <td>2017</td>\n",
       "      <td>12</td>\n",
       "      <td>0</td>\n",
       "      <td>1</td>\n",
       "      <td>1</td>\n",
       "      <td>0</td>\n",
       "      <td>...</td>\n",
       "      <td>Moscow</td>\n",
       "      <td>240.0</td>\n",
       "      <td>City centre</td>\n",
       "      <td>Solntsevo Exhibition Hall</td>\n",
       "      <td>Alexeevsky</td>\n",
       "      <td>3.0</td>\n",
       "      <td>2351.0</td>\n",
       "      <td>15.0</td>\n",
       "      <td>Hotel</td>\n",
       "      <td>0</td>\n",
       "    </tr>\n",
       "    <tr>\n",
       "      <th>77579</th>\n",
       "      <td>10947</td>\n",
       "      <td>58</td>\n",
       "      <td>1</td>\n",
       "      <td>15-50% offer</td>\n",
       "      <td>2018</td>\n",
       "      <td>4</td>\n",
       "      <td>1</td>\n",
       "      <td>0</td>\n",
       "      <td>1</td>\n",
       "      <td>0</td>\n",
       "      <td>...</td>\n",
       "      <td>Moscow</td>\n",
       "      <td>240.0</td>\n",
       "      <td>City centre</td>\n",
       "      <td>Solntsevo Exhibition Hall</td>\n",
       "      <td>Alexeevsky</td>\n",
       "      <td>3.0</td>\n",
       "      <td>2351.0</td>\n",
       "      <td>15.0</td>\n",
       "      <td>Hotel</td>\n",
       "      <td>0</td>\n",
       "    </tr>\n",
       "    <tr>\n",
       "      <th>77580</th>\n",
       "      <td>10947</td>\n",
       "      <td>58</td>\n",
       "      <td>1</td>\n",
       "      <td>15-50% offer</td>\n",
       "      <td>2018</td>\n",
       "      <td>5</td>\n",
       "      <td>1</td>\n",
       "      <td>0</td>\n",
       "      <td>1</td>\n",
       "      <td>0</td>\n",
       "      <td>...</td>\n",
       "      <td>Moscow</td>\n",
       "      <td>240.0</td>\n",
       "      <td>City centre</td>\n",
       "      <td>Solntsevo Exhibition Hall</td>\n",
       "      <td>Alexeevsky</td>\n",
       "      <td>3.0</td>\n",
       "      <td>2351.0</td>\n",
       "      <td>15.0</td>\n",
       "      <td>Hotel</td>\n",
       "      <td>0</td>\n",
       "    </tr>\n",
       "    <tr>\n",
       "      <th>77581</th>\n",
       "      <td>10947</td>\n",
       "      <td>231</td>\n",
       "      <td>1</td>\n",
       "      <td>15-50% offer</td>\n",
       "      <td>2017</td>\n",
       "      <td>12</td>\n",
       "      <td>0</td>\n",
       "      <td>1</td>\n",
       "      <td>4</td>\n",
       "      <td>0</td>\n",
       "      <td>...</td>\n",
       "      <td>Moscow</td>\n",
       "      <td>240.0</td>\n",
       "      <td>City centre</td>\n",
       "      <td>Solntsevo Exhibition Hall</td>\n",
       "      <td>Alexeevsky</td>\n",
       "      <td>3.0</td>\n",
       "      <td>2351.0</td>\n",
       "      <td>15.0</td>\n",
       "      <td>Hotel</td>\n",
       "      <td>0</td>\n",
       "    </tr>\n",
       "    <tr>\n",
       "      <th>77582</th>\n",
       "      <td>10947</td>\n",
       "      <td>81</td>\n",
       "      <td>0</td>\n",
       "      <td>0% no offer</td>\n",
       "      <td>2017</td>\n",
       "      <td>11</td>\n",
       "      <td>0</td>\n",
       "      <td>0</td>\n",
       "      <td>1</td>\n",
       "      <td>0</td>\n",
       "      <td>...</td>\n",
       "      <td>Moscow</td>\n",
       "      <td>240.0</td>\n",
       "      <td>City centre</td>\n",
       "      <td>Solntsevo Exhibition Hall</td>\n",
       "      <td>Alexeevsky</td>\n",
       "      <td>3.0</td>\n",
       "      <td>2351.0</td>\n",
       "      <td>15.0</td>\n",
       "      <td>Hotel</td>\n",
       "      <td>0</td>\n",
       "    </tr>\n",
       "  </tbody>\n",
       "</table>\n",
       "<p>5 rows × 25 columns</p>\n",
       "</div>"
      ],
      "text/plain": [
       "       hotel_id  price  offer     offer_cat  year  month  weekend  holiday  \\\n",
       "77578     10947     59      1  15-50% offer  2017     12        0        1   \n",
       "77579     10947     58      1  15-50% offer  2018      4        1        0   \n",
       "77580     10947     58      1  15-50% offer  2018      5        1        0   \n",
       "77581     10947    231      1  15-50% offer  2017     12        0        1   \n",
       "77582     10947     81      0   0% no offer  2017     11        0        0   \n",
       "\n",
       "       nnights  scarce_room  ... city_actual  rating_reviewcount  \\\n",
       "77578        1            0  ...      Moscow               240.0   \n",
       "77579        1            0  ...      Moscow               240.0   \n",
       "77580        1            0  ...      Moscow               240.0   \n",
       "77581        4            0  ...      Moscow               240.0   \n",
       "77582        1            0  ...      Moscow               240.0   \n",
       "\n",
       "       center1label               center2label neighbourhood ratingta  \\\n",
       "77578   City centre  Solntsevo Exhibition Hall    Alexeevsky      3.0   \n",
       "77579   City centre  Solntsevo Exhibition Hall    Alexeevsky      3.0   \n",
       "77580   City centre  Solntsevo Exhibition Hall    Alexeevsky      3.0   \n",
       "77581   City centre  Solntsevo Exhibition Hall    Alexeevsky      3.0   \n",
       "77582   City centre  Solntsevo Exhibition Hall    Alexeevsky      3.0   \n",
       "\n",
       "       ratingta_count distance_alter accommodation_type highly_rated  \n",
       "77578          2351.0           15.0              Hotel            0  \n",
       "77579          2351.0           15.0              Hotel            0  \n",
       "77580          2351.0           15.0              Hotel            0  \n",
       "77581          2351.0           15.0              Hotel            0  \n",
       "77582          2351.0           15.0              Hotel            0  \n",
       "\n",
       "[5 rows x 25 columns]"
      ]
     },
     "execution_count": 13,
     "metadata": {},
     "output_type": "execute_result"
    }
   ],
   "source": [
    "# new column 'highly_rated'\n",
    "# Set to 1 if 'rating' is greater than or equal to 4, and 0 otherwise\n",
    "merged_hotel_data_moscow['highly_rated'] = merged_hotel_data_moscow['rating'].apply(lambda x: 1 if x >= 4 else 0)\n",
    "merged_hotel_data_moscow.head()"
   ]
  },
  {
   "cell_type": "markdown",
   "metadata": {},
   "source": [
    "## Basic OLS Regression"
   ]
  },
  {
   "cell_type": "code",
   "execution_count": 14,
   "metadata": {},
   "outputs": [
    {
     "name": "stdout",
     "output_type": "stream",
     "text": [
      "                            OLS Regression Results                            \n",
      "==============================================================================\n",
      "Dep. Variable:           highly_rated   R-squared:                       0.130\n",
      "Model:                            OLS   Adj. R-squared:                  0.129\n",
      "Method:                 Least Squares   F-statistic:                     127.6\n",
      "Date:                Mon, 04 Dec 2023   Prob (F-statistic):           5.24e-77\n",
      "Time:                        13:13:17   Log-Likelihood:                -1554.0\n",
      "No. Observations:                2566   AIC:                             3116.\n",
      "Df Residuals:                    2562   BIC:                             3139.\n",
      "Df Model:                           3                                         \n",
      "Covariance Type:            nonrobust                                         \n",
      "==============================================================================\n",
      "                 coef    std err          t      P>|t|      [0.025      0.975]\n",
      "------------------------------------------------------------------------------\n",
      "const          0.0813      0.032      2.545      0.011       0.019       0.144\n",
      "price          0.0002   6.28e-05      2.785      0.005    5.17e-05       0.000\n",
      "stars          0.1583      0.010     15.775      0.000       0.139       0.178\n",
      "distance       0.0084      0.002      5.442      0.000       0.005       0.011\n",
      "==============================================================================\n",
      "Omnibus:                     2450.991   Durbin-Watson:                   0.242\n",
      "Prob(Omnibus):                  0.000   Jarque-Bera (JB):              256.266\n",
      "Skew:                          -0.481   Prob(JB):                     2.25e-56\n",
      "Kurtosis:                       1.787   Cond. No.                         740.\n",
      "==============================================================================\n",
      "\n",
      "Notes:\n",
      "[1] Standard Errors assume that the covariance matrix of the errors is correctly specified.\n"
     ]
    }
   ],
   "source": [
    "# Assuming 'merged_hotel_data' is your DataFrame\n",
    "# Selecting some potential independent variables (adjust as needed)\n",
    "X = merged_hotel_data_moscow[['price', 'stars', 'distance']]  # Example features\n",
    "y = merged_hotel_data_moscow['highly_rated']  # Dependent variable\n",
    "\n",
    "# Adding a constant to the model (intercept)\n",
    "X = sm.add_constant(X)\n",
    "\n",
    "# Building the OLS model\n",
    "model = sm.OLS(y, X).fit()\n",
    "\n",
    "# Printing the summary of the model\n",
    "print(model.summary())\n"
   ]
  },
  {
   "cell_type": "markdown",
   "metadata": {},
   "source": [
    "# Part 2\n",
    "\n",
    "### **Estimate with distance and stars as explanatory variables**:\n",
    "- linear probability models\n",
    "- logit models\n",
    "- probit models\n",
    "\n",
    "*You may add other variables if you wish*.\n",
    "\n",
    "### **Compare**:\n",
    "- Coefficients\n",
    "- Marginal differences\n",
    "- Predicted probabilities\n",
    "\n",
    "Discuss your results!"
   ]
  },
  {
   "cell_type": "markdown",
   "metadata": {},
   "source": [
    "## Linear Probability Models"
   ]
  },
  {
   "cell_type": "code",
   "execution_count": 15,
   "metadata": {},
   "outputs": [],
   "source": [
    "lpm1 = smf.ols(\n",
    "    \"highly_rated ~ price + stars + distance\",\n",
    "    merged_hotel_data_moscow,\n",
    ").fit(covtype=\"HC1\")"
   ]
  },
  {
   "cell_type": "code",
   "execution_count": 16,
   "metadata": {},
   "outputs": [
    {
     "data": {
      "text/html": [
       "<table style=\"text-align:center\"><tr><td colspan=\"2\" style=\"border-bottom: 1px solid black\"></td></tr>\n",
       "<tr><td style=\"text-align:left\"></td><td colspan=\"1\"><em>Dependent variable: highly_rated</em></td></tr><tr><td style=\"text-align:left\"></td><tr><td style=\"text-align:left\"></td><td>(1)</td></tr>\n",
       "<tr><td colspan=\"2\" style=\"border-bottom: 1px solid black\"></td></tr>\n",
       "\n",
       "<tr><td style=\"text-align:left\">price</td><td>0.000<sup>***</sup></td></tr>\n",
       "<tr><td style=\"text-align:left\"></td><td>(0.000)</td></tr>\n",
       "<tr><td style=\"text-align:left\">stars</td><td>0.158<sup>***</sup></td></tr>\n",
       "<tr><td style=\"text-align:left\"></td><td>(0.010)</td></tr>\n",
       "<tr><td style=\"text-align:left\">distance</td><td>0.008<sup>***</sup></td></tr>\n",
       "<tr><td style=\"text-align:left\"></td><td>(0.002)</td></tr>\n",
       "\n",
       "<tr><td style=\"text-align: left\">Offer indicators</td><td>Yes</td></tr><td colspan=\"2\" style=\"border-bottom: 1px solid black\"></td></tr>\n",
       "<tr><td style=\"text-align: left\">Observations</td><td>2566</td></tr><tr><td style=\"text-align: left\">R<sup>2</sup></td><td>0.130</td></tr><tr><td style=\"text-align: left\">Adjusted R<sup>2</sup></td><td>0.129</td></tr><tr><td style=\"text-align: left\">Residual Std. Error</td><td>0.444 (df=2562)</td></tr><tr><td style=\"text-align: left\">F Statistic</td><td>127.554<sup>***</sup> (df=3; 2562)</td></tr>\n",
       "<tr><td colspan=\"2\" style=\"border-bottom: 1px solid black\"></td></tr><tr><td style=\"text-align: left\">Note:</td><td colspan=\"1\" style=\"text-align: right\"><sup>*</sup>p&lt;0.1; <sup>**</sup>p&lt;0.05; <sup>***</sup>p&lt;0.01</td></tr></table>"
      ],
      "text/plain": [
       "<stargazer.stargazer.Stargazer at 0x198af327dd0>"
      ]
     },
     "execution_count": 16,
     "metadata": {},
     "output_type": "execute_result"
    }
   ],
   "source": [
    "stargazer = Stargazer([lpm1])\n",
    "stargazer.covariate_order(\n",
    "    [\n",
    "        \"price\",\n",
    "        \"stars\",\n",
    "        \"distance\",\n",
    "    ]\n",
    ")\n",
    "stargazer.rename_covariates({\"Intercept\": \"Constant\"})\n",
    "stargazer.add_line(\"Offer indicators\", [\"Yes\"])\n",
    "stargazer\n"
   ]
  },
  {
   "cell_type": "code",
   "execution_count": 17,
   "metadata": {},
   "outputs": [
    {
     "data": {
      "text/plain": [
       "count    2566.0000\n",
       "mean        0.6551\n",
       "std         0.1714\n",
       "min         0.2487\n",
       "25%         0.5736\n",
       "50%         0.6289\n",
       "75%         0.7580\n",
       "max         1.4228\n",
       "Name: pred_lpm, dtype: float64"
      ]
     },
     "execution_count": 17,
     "metadata": {},
     "output_type": "execute_result"
    }
   ],
   "source": [
    "merged_hotel_data_moscow[\"pred_lpm\"] = lpm1.predict()\n",
    "merged_hotel_data_moscow[\"pred_lpm\"].describe().round(4)"
   ]
  },
  {
   "cell_type": "code",
   "execution_count": 18,
   "metadata": {},
   "outputs": [
    {
     "name": "stderr",
     "output_type": "stream",
     "text": [
      "c:\\Users\\Szabados\\anaconda3\\Lib\\site-packages\\plotnine\\layer.py:284: PlotnineWarning: stat_bin : Removed 37 rows containing non-finite values.\n"
     ]
    },
    {
     "name": "stderr",
     "output_type": "stream",
     "text": [
      "c:\\Users\\Szabados\\anaconda3\\Lib\\site-packages\\plotnine\\layer.py:364: PlotnineWarning: geom_histogram : Removed 4 rows containing missing values.\n"
     ]
    },
    {
     "data": {
      "image/png": "[encoded data removed]",
      "text/plain": [
       "<Figure size 640x480 with 1 Axes>"
      ]
     },
     "metadata": {
      "image/png": {
       "height": 480,
       "width": 640
      }
     },
     "output_type": "display_data"
    },
    {
     "data": {
      "text/plain": [
       "<Figure Size: (640 x 480)>"
      ]
     },
     "execution_count": 18,
     "metadata": {},
     "output_type": "execute_result"
    }
   ],
   "source": [
    "g1 = (\n",
    "    ggplot(merged_hotel_data_moscow, aes(x=\"pred_lpm\"))\n",
    "    + geom_histogram(\n",
    "        aes(y=\"stat(count)/sum(stat(count))\"),\n",
    "        binwidth=0.02,\n",
    "        center=0.65,\n",
    "        color=\"white\",\n",
    "        fill=\"darkblue\",\n",
    "        closed=\"right\",\n",
    "    )\n",
    "    + labs(x=\"Predicted probability of a highly rated hotel\", y=\"Percent\")\n",
    "    + scale_y_continuous(\n",
    "        expand=[0.00, 0.0],\n",
    "        limits=[0, 0.07],\n",
    "        breaks=np.arange(0, 0.07, 0.01),\n",
    "        labels=percent_format(),\n",
    "    )\n",
    "    + scale_x_continuous(expand=[0.1, 0.01], limits=[0, 1], breaks=np.arange(0, 1, 0.2))\n",
    "    + theme_bw()\n",
    ")\n",
    "g1\n"
   ]
  },
  {
   "cell_type": "code",
   "execution_count": 19,
   "metadata": {},
   "outputs": [
    {
     "data": {
      "text/html": [
       "<div>\n",
       "<style scoped>\n",
       "    .dataframe tbody tr th:only-of-type {\n",
       "        vertical-align: middle;\n",
       "    }\n",
       "\n",
       "    .dataframe tbody tr th {\n",
       "        vertical-align: top;\n",
       "    }\n",
       "\n",
       "    .dataframe thead th {\n",
       "        text-align: right;\n",
       "    }\n",
       "</style>\n",
       "<table border=\"1\" class=\"dataframe\">\n",
       "  <thead>\n",
       "    <tr style=\"text-align: right;\">\n",
       "      <th></th>\n",
       "      <th>price</th>\n",
       "      <th>stars</th>\n",
       "      <th>distance</th>\n",
       "    </tr>\n",
       "  </thead>\n",
       "  <tbody>\n",
       "    <tr>\n",
       "      <th>count</th>\n",
       "      <td>28.0</td>\n",
       "      <td>28.0</td>\n",
       "      <td>28.0</td>\n",
       "    </tr>\n",
       "    <tr>\n",
       "      <th>mean</th>\n",
       "      <td>31.2</td>\n",
       "      <td>1.0</td>\n",
       "      <td>0.7</td>\n",
       "    </tr>\n",
       "    <tr>\n",
       "      <th>std</th>\n",
       "      <td>6.1</td>\n",
       "      <td>0.0</td>\n",
       "      <td>0.2</td>\n",
       "    </tr>\n",
       "    <tr>\n",
       "      <th>min</th>\n",
       "      <td>19.0</td>\n",
       "      <td>1.0</td>\n",
       "      <td>0.5</td>\n",
       "    </tr>\n",
       "    <tr>\n",
       "      <th>25%</th>\n",
       "      <td>28.0</td>\n",
       "      <td>1.0</td>\n",
       "      <td>0.5</td>\n",
       "    </tr>\n",
       "    <tr>\n",
       "      <th>50%</th>\n",
       "      <td>29.0</td>\n",
       "      <td>1.0</td>\n",
       "      <td>0.5</td>\n",
       "    </tr>\n",
       "    <tr>\n",
       "      <th>75%</th>\n",
       "      <td>35.2</td>\n",
       "      <td>1.0</td>\n",
       "      <td>1.0</td>\n",
       "    </tr>\n",
       "    <tr>\n",
       "      <th>max</th>\n",
       "      <td>48.0</td>\n",
       "      <td>1.0</td>\n",
       "      <td>1.0</td>\n",
       "    </tr>\n",
       "  </tbody>\n",
       "</table>\n",
       "</div>"
      ],
      "text/plain": [
       "       price  stars  distance\n",
       "count   28.0   28.0      28.0\n",
       "mean    31.2    1.0       0.7\n",
       "std      6.1    0.0       0.2\n",
       "min     19.0    1.0       0.5\n",
       "25%     28.0    1.0       0.5\n",
       "50%     29.0    1.0       0.5\n",
       "75%     35.2    1.0       1.0\n",
       "max     48.0    1.0       1.0"
      ]
     },
     "execution_count": 19,
     "metadata": {},
     "output_type": "execute_result"
    }
   ],
   "source": [
    "cuts = 100\n",
    "merged_hotel_data_moscow[\"q100_pred_lpm\"] = pd.qcut(merged_hotel_data_moscow[\"pred_lpm\"], q=cuts, labels=range(1, cuts + 1))\n",
    "\n",
    "merged_hotel_data_moscow.loc[\n",
    "    merged_hotel_data_moscow[\"q100_pred_lpm\"] == 1,\n",
    "    [\n",
    "        \"price\",\n",
    "        \"stars\",\n",
    "        \"distance\"\n",
    "    ],\n",
    "].describe().round(1)\n",
    "\n",
    "# Bottom 1%"
   ]
  },
  {
   "cell_type": "code",
   "execution_count": 20,
   "metadata": {},
   "outputs": [
    {
     "data": {
      "text/html": [
       "<div>\n",
       "<style scoped>\n",
       "    .dataframe tbody tr th:only-of-type {\n",
       "        vertical-align: middle;\n",
       "    }\n",
       "\n",
       "    .dataframe tbody tr th {\n",
       "        vertical-align: top;\n",
       "    }\n",
       "\n",
       "    .dataframe thead th {\n",
       "        text-align: right;\n",
       "    }\n",
       "</style>\n",
       "<table border=\"1\" class=\"dataframe\">\n",
       "  <thead>\n",
       "    <tr style=\"text-align: right;\">\n",
       "      <th></th>\n",
       "      <th>price</th>\n",
       "      <th>stars</th>\n",
       "      <th>distance</th>\n",
       "    </tr>\n",
       "  </thead>\n",
       "  <tbody>\n",
       "    <tr>\n",
       "      <th>count</th>\n",
       "      <td>22.0</td>\n",
       "      <td>22.0</td>\n",
       "      <td>22.0</td>\n",
       "    </tr>\n",
       "    <tr>\n",
       "      <th>mean</th>\n",
       "      <td>1076.2</td>\n",
       "      <td>5.0</td>\n",
       "      <td>6.9</td>\n",
       "    </tr>\n",
       "    <tr>\n",
       "      <th>std</th>\n",
       "      <td>568.5</td>\n",
       "      <td>0.0</td>\n",
       "      <td>6.9</td>\n",
       "    </tr>\n",
       "    <tr>\n",
       "      <th>min</th>\n",
       "      <td>432.0</td>\n",
       "      <td>5.0</td>\n",
       "      <td>0.0</td>\n",
       "    </tr>\n",
       "    <tr>\n",
       "      <th>25%</th>\n",
       "      <td>617.0</td>\n",
       "      <td>5.0</td>\n",
       "      <td>0.5</td>\n",
       "    </tr>\n",
       "    <tr>\n",
       "      <th>50%</th>\n",
       "      <td>1058.0</td>\n",
       "      <td>5.0</td>\n",
       "      <td>2.0</td>\n",
       "    </tr>\n",
       "    <tr>\n",
       "      <th>75%</th>\n",
       "      <td>1224.2</td>\n",
       "      <td>5.0</td>\n",
       "      <td>14.0</td>\n",
       "    </tr>\n",
       "    <tr>\n",
       "      <th>max</th>\n",
       "      <td>2471.0</td>\n",
       "      <td>5.0</td>\n",
       "      <td>16.0</td>\n",
       "    </tr>\n",
       "  </tbody>\n",
       "</table>\n",
       "</div>"
      ],
      "text/plain": [
       "        price  stars  distance\n",
       "count    22.0   22.0      22.0\n",
       "mean   1076.2    5.0       6.9\n",
       "std     568.5    0.0       6.9\n",
       "min     432.0    5.0       0.0\n",
       "25%     617.0    5.0       0.5\n",
       "50%    1058.0    5.0       2.0\n",
       "75%    1224.2    5.0      14.0\n",
       "max    2471.0    5.0      16.0"
      ]
     },
     "execution_count": 20,
     "metadata": {},
     "output_type": "execute_result"
    }
   ],
   "source": [
    "merged_hotel_data_moscow.loc[\n",
    "    merged_hotel_data_moscow[\"q100_pred_lpm\"] == 100,\n",
    "    [\n",
    "        \"price\",\n",
    "        \"stars\",\n",
    "        \"distance\"\n",
    "    ],\n",
    "].describe().round(1)\n",
    "\n",
    "# Top 1%"
   ]
  },
  {
   "cell_type": "markdown",
   "metadata": {},
   "source": [
    "## Logit and Probit Models"
   ]
  },
  {
   "cell_type": "code",
   "execution_count": 21,
   "metadata": {},
   "outputs": [
    {
     "name": "stderr",
     "output_type": "stream",
     "text": [
      "c:\\Users\\Szabados\\anaconda3\\Lib\\site-packages\\statsmodels\\genmod\\families\\links.py:13: FutureWarning: The logit link alias is deprecated. Use Logit instead. The logit link alias will be removed after the 0.15.0 release.\n"
     ]
    }
   ],
   "source": [
    "from patsy import dmatrices\n",
    "y, X = dmatrices(\n",
    "    \"highly_rated ~ price + stars + distance\",\n",
    "    merged_hotel_data_moscow,\n",
    ")\n",
    "\n",
    "logit = sm.GLM(y, X, family=sm.families.Binomial(link=sm.genmod.families.links.logit()))\n",
    "logit = logit.fit()\n"
   ]
  },
  {
   "cell_type": "code",
   "execution_count": 22,
   "metadata": {},
   "outputs": [
    {
     "data": {
      "text/html": [
       "<table class=\"simpletable\">\n",
       "<caption>Generalized Linear Model Regression Results</caption>\n",
       "<tr>\n",
       "  <th>Dep. Variable:</th>     <td>highly_rated</td>   <th>  No. Observations:  </th>  <td>  2566</td> \n",
       "</tr>\n",
       "<tr>\n",
       "  <th>Model:</th>                  <td>GLM</td>       <th>  Df Residuals:      </th>  <td>  2562</td> \n",
       "</tr>\n",
       "<tr>\n",
       "  <th>Model Family:</th>        <td>Binomial</td>     <th>  Df Model:          </th>  <td>     3</td> \n",
       "</tr>\n",
       "<tr>\n",
       "  <th>Link Function:</th>         <td>logit</td>      <th>  Scale:             </th> <td>  1.0000</td>\n",
       "</tr>\n",
       "<tr>\n",
       "  <th>Method:</th>                <td>IRLS</td>       <th>  Log-Likelihood:    </th> <td> -1470.3</td>\n",
       "</tr>\n",
       "<tr>\n",
       "  <th>Date:</th>            <td>Mon, 04 Dec 2023</td> <th>  Deviance:          </th> <td>  2940.6</td>\n",
       "</tr>\n",
       "<tr>\n",
       "  <th>Time:</th>                <td>13:14:21</td>     <th>  Pearson chi2:      </th> <td>2.65e+03</td>\n",
       "</tr>\n",
       "<tr>\n",
       "  <th>No. Iterations:</th>          <td>5</td>        <th>  Pseudo R-squ. (CS):</th>  <td>0.1328</td> \n",
       "</tr>\n",
       "<tr>\n",
       "  <th>Covariance Type:</th>     <td>nonrobust</td>    <th>                     </th>     <td> </td>   \n",
       "</tr>\n",
       "</table>\n",
       "<table class=\"simpletable\">\n",
       "<tr>\n",
       "      <td></td>         <th>coef</th>     <th>std err</th>      <th>z</th>      <th>P>|z|</th>  <th>[0.025</th>    <th>0.975]</th>  \n",
       "</tr>\n",
       "<tr>\n",
       "  <th>Intercept</th> <td>   -2.1214</td> <td>    0.169</td> <td>  -12.530</td> <td> 0.000</td> <td>   -2.453</td> <td>   -1.790</td>\n",
       "</tr>\n",
       "<tr>\n",
       "  <th>price</th>     <td>    0.0023</td> <td>    0.001</td> <td>    4.212</td> <td> 0.000</td> <td>    0.001</td> <td>    0.003</td>\n",
       "</tr>\n",
       "<tr>\n",
       "  <th>stars</th>     <td>    0.7404</td> <td>    0.056</td> <td>   13.125</td> <td> 0.000</td> <td>    0.630</td> <td>    0.851</td>\n",
       "</tr>\n",
       "<tr>\n",
       "  <th>distance</th>  <td>    0.0447</td> <td>    0.009</td> <td>    5.036</td> <td> 0.000</td> <td>    0.027</td> <td>    0.062</td>\n",
       "</tr>\n",
       "</table>"
      ],
      "text/latex": [
       "\\begin{center}\n",
       "\\begin{tabular}{lclc}\n",
       "\\toprule\n",
       "\\textbf{Dep. Variable:}   &  highly\\_rated   & \\textbf{  No. Observations:  } &     2566    \\\\\n",
       "\\textbf{Model:}           &       GLM        & \\textbf{  Df Residuals:      } &     2562    \\\\\n",
       "\\textbf{Model Family:}    &     Binomial     & \\textbf{  Df Model:          } &        3    \\\\\n",
       "\\textbf{Link Function:}   &      logit       & \\textbf{  Scale:             } &    1.0000   \\\\\n",
       "\\textbf{Method:}          &       IRLS       & \\textbf{  Log-Likelihood:    } &   -1470.3   \\\\\n",
       "\\textbf{Date:}            & Mon, 04 Dec 2023 & \\textbf{  Deviance:          } &    2940.6   \\\\\n",
       "\\textbf{Time:}            &     13:14:21     & \\textbf{  Pearson chi2:      } &  2.65e+03   \\\\\n",
       "\\textbf{No. Iterations:}  &        5         & \\textbf{  Pseudo R-squ. (CS):} &   0.1328    \\\\\n",
       "\\textbf{Covariance Type:} &    nonrobust     & \\textbf{                     } &             \\\\\n",
       "\\bottomrule\n",
       "\\end{tabular}\n",
       "\\begin{tabular}{lcccccc}\n",
       "                   & \\textbf{coef} & \\textbf{std err} & \\textbf{z} & \\textbf{P$> |$z$|$} & \\textbf{[0.025} & \\textbf{0.975]}  \\\\\n",
       "\\midrule\n",
       "\\textbf{Intercept} &      -2.1214  &        0.169     &   -12.530  &         0.000        &       -2.453    &       -1.790     \\\\\n",
       "\\textbf{price}     &       0.0023  &        0.001     &     4.212  &         0.000        &        0.001    &        0.003     \\\\\n",
       "\\textbf{stars}     &       0.7404  &        0.056     &    13.125  &         0.000        &        0.630    &        0.851     \\\\\n",
       "\\textbf{distance}  &       0.0447  &        0.009     &     5.036  &         0.000        &        0.027    &        0.062     \\\\\n",
       "\\bottomrule\n",
       "\\end{tabular}\n",
       "%\\caption{Generalized Linear Model Regression Results}\n",
       "\\end{center}"
      ],
      "text/plain": [
       "<class 'statsmodels.iolib.summary.Summary'>\n",
       "\"\"\"\n",
       "                 Generalized Linear Model Regression Results                  \n",
       "==============================================================================\n",
       "Dep. Variable:           highly_rated   No. Observations:                 2566\n",
       "Model:                            GLM   Df Residuals:                     2562\n",
       "Model Family:                Binomial   Df Model:                            3\n",
       "Link Function:                  logit   Scale:                          1.0000\n",
       "Method:                          IRLS   Log-Likelihood:                -1470.3\n",
       "Date:                Mon, 04 Dec 2023   Deviance:                       2940.6\n",
       "Time:                        13:14:21   Pearson chi2:                 2.65e+03\n",
       "No. Iterations:                     5   Pseudo R-squ. (CS):             0.1328\n",
       "Covariance Type:            nonrobust                                         \n",
       "==============================================================================\n",
       "                 coef    std err          z      P>|z|      [0.025      0.975]\n",
       "------------------------------------------------------------------------------\n",
       "Intercept     -2.1214      0.169    -12.530      0.000      -2.453      -1.790\n",
       "price          0.0023      0.001      4.212      0.000       0.001       0.003\n",
       "stars          0.7404      0.056     13.125      0.000       0.630       0.851\n",
       "distance       0.0447      0.009      5.036      0.000       0.027       0.062\n",
       "==============================================================================\n",
       "\"\"\""
      ]
     },
     "execution_count": 22,
     "metadata": {},
     "output_type": "execute_result"
    }
   ],
   "source": [
    "logit.summary()"
   ]
  },
  {
   "cell_type": "code",
   "execution_count": 23,
   "metadata": {},
   "outputs": [
    {
     "data": {
      "text/plain": [
       "count    2566.000000\n",
       "mean        0.655105\n",
       "std         0.174474\n",
       "min         0.215209\n",
       "25%         0.568782\n",
       "50%         0.661600\n",
       "75%         0.778415\n",
       "max         0.999640\n",
       "Name: pred_logit, dtype: float64"
      ]
     },
     "execution_count": 23,
     "metadata": {},
     "output_type": "execute_result"
    }
   ],
   "source": [
    "merged_hotel_data_moscow[\"pred_logit\"] = logit.predict()\n",
    "merged_hotel_data_moscow[\"pred_logit\"].describe()"
   ]
  },
  {
   "cell_type": "code",
   "execution_count": 24,
   "metadata": {},
   "outputs": [
    {
     "name": "stdout",
     "output_type": "stream",
     "text": [
      "Optimization terminated successfully.\n",
      "         Current function value: 0.572994\n",
      "         Iterations 6\n"
     ]
    }
   ],
   "source": [
    "logit = sm.Logit(y, X)\n",
    "logit_result = logit.fit()"
   ]
  },
  {
   "cell_type": "code",
   "execution_count": 25,
   "metadata": {},
   "outputs": [
    {
     "data": {
      "text/html": [
       "<table class=\"simpletable\">\n",
       "<caption>Logit Regression Results</caption>\n",
       "<tr>\n",
       "  <th>Dep. Variable:</th>     <td>highly_rated</td>   <th>  No. Observations:  </th>  <td>  2566</td>  \n",
       "</tr>\n",
       "<tr>\n",
       "  <th>Model:</th>                 <td>Logit</td>      <th>  Df Residuals:      </th>  <td>  2562</td>  \n",
       "</tr>\n",
       "<tr>\n",
       "  <th>Method:</th>                 <td>MLE</td>       <th>  Df Model:          </th>  <td>     3</td>  \n",
       "</tr>\n",
       "<tr>\n",
       "  <th>Date:</th>            <td>Mon, 04 Dec 2023</td> <th>  Pseudo R-squ.:     </th>  <td>0.1106</td>  \n",
       "</tr>\n",
       "<tr>\n",
       "  <th>Time:</th>                <td>13:15:43</td>     <th>  Log-Likelihood:    </th> <td> -1470.3</td> \n",
       "</tr>\n",
       "<tr>\n",
       "  <th>converged:</th>             <td>True</td>       <th>  LL-Null:           </th> <td> -1653.1</td> \n",
       "</tr>\n",
       "<tr>\n",
       "  <th>Covariance Type:</th>     <td>nonrobust</td>    <th>  LLR p-value:       </th> <td>6.319e-79</td>\n",
       "</tr>\n",
       "</table>\n",
       "<table class=\"simpletable\">\n",
       "<tr>\n",
       "      <td></td>         <th>coef</th>     <th>std err</th>      <th>z</th>      <th>P>|z|</th>  <th>[0.025</th>    <th>0.975]</th>  \n",
       "</tr>\n",
       "<tr>\n",
       "  <th>Intercept</th> <td>   -2.1214</td> <td>    0.169</td> <td>  -12.530</td> <td> 0.000</td> <td>   -2.453</td> <td>   -1.790</td>\n",
       "</tr>\n",
       "<tr>\n",
       "  <th>price</th>     <td>    0.0023</td> <td>    0.001</td> <td>    4.212</td> <td> 0.000</td> <td>    0.001</td> <td>    0.003</td>\n",
       "</tr>\n",
       "<tr>\n",
       "  <th>stars</th>     <td>    0.7404</td> <td>    0.056</td> <td>   13.125</td> <td> 0.000</td> <td>    0.630</td> <td>    0.851</td>\n",
       "</tr>\n",
       "<tr>\n",
       "  <th>distance</th>  <td>    0.0447</td> <td>    0.009</td> <td>    5.036</td> <td> 0.000</td> <td>    0.027</td> <td>    0.062</td>\n",
       "</tr>\n",
       "</table>"
      ],
      "text/latex": [
       "\\begin{center}\n",
       "\\begin{tabular}{lclc}\n",
       "\\toprule\n",
       "\\textbf{Dep. Variable:}   &  highly\\_rated   & \\textbf{  No. Observations:  } &     2566    \\\\\n",
       "\\textbf{Model:}           &      Logit       & \\textbf{  Df Residuals:      } &     2562    \\\\\n",
       "\\textbf{Method:}          &       MLE        & \\textbf{  Df Model:          } &        3    \\\\\n",
       "\\textbf{Date:}            & Mon, 04 Dec 2023 & \\textbf{  Pseudo R-squ.:     } &   0.1106    \\\\\n",
       "\\textbf{Time:}            &     13:15:43     & \\textbf{  Log-Likelihood:    } &   -1470.3   \\\\\n",
       "\\textbf{converged:}       &       True       & \\textbf{  LL-Null:           } &   -1653.1   \\\\\n",
       "\\textbf{Covariance Type:} &    nonrobust     & \\textbf{  LLR p-value:       } & 6.319e-79   \\\\\n",
       "\\bottomrule\n",
       "\\end{tabular}\n",
       "\\begin{tabular}{lcccccc}\n",
       "                   & \\textbf{coef} & \\textbf{std err} & \\textbf{z} & \\textbf{P$> |$z$|$} & \\textbf{[0.025} & \\textbf{0.975]}  \\\\\n",
       "\\midrule\n",
       "\\textbf{Intercept} &      -2.1214  &        0.169     &   -12.530  &         0.000        &       -2.453    &       -1.790     \\\\\n",
       "\\textbf{price}     &       0.0023  &        0.001     &     4.212  &         0.000        &        0.001    &        0.003     \\\\\n",
       "\\textbf{stars}     &       0.7404  &        0.056     &    13.125  &         0.000        &        0.630    &        0.851     \\\\\n",
       "\\textbf{distance}  &       0.0447  &        0.009     &     5.036  &         0.000        &        0.027    &        0.062     \\\\\n",
       "\\bottomrule\n",
       "\\end{tabular}\n",
       "%\\caption{Logit Regression Results}\n",
       "\\end{center}"
      ],
      "text/plain": [
       "<class 'statsmodels.iolib.summary.Summary'>\n",
       "\"\"\"\n",
       "                           Logit Regression Results                           \n",
       "==============================================================================\n",
       "Dep. Variable:           highly_rated   No. Observations:                 2566\n",
       "Model:                          Logit   Df Residuals:                     2562\n",
       "Method:                           MLE   Df Model:                            3\n",
       "Date:                Mon, 04 Dec 2023   Pseudo R-squ.:                  0.1106\n",
       "Time:                        13:15:43   Log-Likelihood:                -1470.3\n",
       "converged:                       True   LL-Null:                       -1653.1\n",
       "Covariance Type:            nonrobust   LLR p-value:                 6.319e-79\n",
       "==============================================================================\n",
       "                 coef    std err          z      P>|z|      [0.025      0.975]\n",
       "------------------------------------------------------------------------------\n",
       "Intercept     -2.1214      0.169    -12.530      0.000      -2.453      -1.790\n",
       "price          0.0023      0.001      4.212      0.000       0.001       0.003\n",
       "stars          0.7404      0.056     13.125      0.000       0.630       0.851\n",
       "distance       0.0447      0.009      5.036      0.000       0.027       0.062\n",
       "==============================================================================\n",
       "\"\"\""
      ]
     },
     "execution_count": 25,
     "metadata": {},
     "output_type": "execute_result"
    }
   ],
   "source": [
    "logit_result.summary()"
   ]
  },
  {
   "cell_type": "code",
   "execution_count": 26,
   "metadata": {},
   "outputs": [
    {
     "data": {
      "text/html": [
       "<table class=\"simpletable\">\n",
       "<caption>Logit Marginal Effects</caption>\n",
       "<tr>\n",
       "  <th>Dep. Variable:</th> <td>highly_rated</td>\n",
       "</tr>\n",
       "<tr>\n",
       "  <th>Method:</th>            <td>dydx</td>    \n",
       "</tr>\n",
       "<tr>\n",
       "  <th>At:</th>               <td>overall</td>  \n",
       "</tr>\n",
       "</table>\n",
       "<table class=\"simpletable\">\n",
       "<tr>\n",
       "      <th></th>        <th>dy/dx</th>    <th>std err</th>      <th>z</th>      <th>P>|z|</th>  <th>[0.025</th>    <th>0.975]</th>  \n",
       "</tr>\n",
       "<tr>\n",
       "  <th>price</th>    <td>    0.0005</td> <td>    0.000</td> <td>    4.248</td> <td> 0.000</td> <td>    0.000</td> <td>    0.001</td>\n",
       "</tr>\n",
       "<tr>\n",
       "  <th>stars</th>    <td>    0.1448</td> <td>    0.010</td> <td>   15.081</td> <td> 0.000</td> <td>    0.126</td> <td>    0.164</td>\n",
       "</tr>\n",
       "<tr>\n",
       "  <th>distance</th> <td>    0.0087</td> <td>    0.002</td> <td>    5.123</td> <td> 0.000</td> <td>    0.005</td> <td>    0.012</td>\n",
       "</tr>\n",
       "</table>"
      ],
      "text/latex": [
       "\\begin{center}\n",
       "\\begin{tabular}{lc}\n",
       "\\toprule\n",
       "\\textbf{Dep. Variable:} & highly\\_rated   \\\\\n",
       "\\textbf{Method:}        &      dydx       \\\\\n",
       "\\textbf{At:}            &    overall      \\\\\n",
       "\\bottomrule\n",
       "\\end{tabular}\n",
       "\\begin{tabular}{ccccccc}\n",
       "    \\textbf{}     & \\textbf{dy/dx} & \\textbf{std err} & \\textbf{z} & \\textbf{P$> |$z$|$} & \\textbf{[0.025} & \\textbf{0.975]}  \\\\\n",
       "\\midrule\n",
       "\\bottomrule\n",
       "\\end{tabular}\n",
       "\\begin{tabular}{lcccccc}\n",
       "\\textbf{price}    &       0.0005   &        0.000     &     4.248  &         0.000        &        0.000    &        0.001     \\\\\n",
       "\\textbf{stars}    &       0.1448   &        0.010     &    15.081  &         0.000        &        0.126    &        0.164     \\\\\n",
       "\\textbf{distance} &       0.0087   &        0.002     &     5.123  &         0.000        &        0.005    &        0.012     \\\\\n",
       "\\bottomrule\n",
       "\\end{tabular}\n",
       "%\\caption{Logit Marginal Effects}\n",
       "\\end{center}"
      ],
      "text/plain": [
       "<class 'statsmodels.iolib.summary.Summary'>\n",
       "\"\"\"\n",
       "        Logit Marginal Effects       \n",
       "=====================================\n",
       "Dep. Variable:           highly_rated\n",
       "Method:                          dydx\n",
       "At:                           overall\n",
       "==============================================================================\n",
       "                dy/dx    std err          z      P>|z|      [0.025      0.975]\n",
       "------------------------------------------------------------------------------\n",
       "price          0.0005      0.000      4.248      0.000       0.000       0.001\n",
       "stars          0.1448      0.010     15.081      0.000       0.126       0.164\n",
       "distance       0.0087      0.002      5.123      0.000       0.005       0.012\n",
       "==============================================================================\n",
       "\"\"\""
      ]
     },
     "execution_count": 26,
     "metadata": {},
     "output_type": "execute_result"
    }
   ],
   "source": [
    "logit_margef_results = logit_result.get_margeff()\n",
    "logit_margef_results.summary()"
   ]
  },
  {
   "cell_type": "code",
   "execution_count": 27,
   "metadata": {},
   "outputs": [
    {
     "name": "stdout",
     "output_type": "stream",
     "text": [
      "Optimization terminated successfully.\n",
      "         Current function value: 0.573420\n",
      "         Iterations 6\n"
     ]
    }
   ],
   "source": [
    "probit = sm.Probit(y, X)\n",
    "probit_result = probit.fit()"
   ]
  },
  {
   "cell_type": "code",
   "execution_count": 28,
   "metadata": {},
   "outputs": [
    {
     "data": {
      "text/html": [
       "<table class=\"simpletable\">\n",
       "<caption>Probit Regression Results</caption>\n",
       "<tr>\n",
       "  <th>Dep. Variable:</th>     <td>highly_rated</td>   <th>  No. Observations:  </th>  <td>  2566</td>  \n",
       "</tr>\n",
       "<tr>\n",
       "  <th>Model:</th>                <td>Probit</td>      <th>  Df Residuals:      </th>  <td>  2562</td>  \n",
       "</tr>\n",
       "<tr>\n",
       "  <th>Method:</th>                 <td>MLE</td>       <th>  Df Model:          </th>  <td>     3</td>  \n",
       "</tr>\n",
       "<tr>\n",
       "  <th>Date:</th>            <td>Mon, 04 Dec 2023</td> <th>  Pseudo R-squ.:     </th>  <td>0.1099</td>  \n",
       "</tr>\n",
       "<tr>\n",
       "  <th>Time:</th>                <td>13:17:08</td>     <th>  Log-Likelihood:    </th> <td> -1471.4</td> \n",
       "</tr>\n",
       "<tr>\n",
       "  <th>converged:</th>             <td>True</td>       <th>  LL-Null:           </th> <td> -1653.1</td> \n",
       "</tr>\n",
       "<tr>\n",
       "  <th>Covariance Type:</th>     <td>nonrobust</td>    <th>  LLR p-value:       </th> <td>1.878e-78</td>\n",
       "</tr>\n",
       "</table>\n",
       "<table class=\"simpletable\">\n",
       "<tr>\n",
       "      <td></td>         <th>coef</th>     <th>std err</th>      <th>z</th>      <th>P>|z|</th>  <th>[0.025</th>    <th>0.975]</th>  \n",
       "</tr>\n",
       "<tr>\n",
       "  <th>Intercept</th> <td>   -1.2621</td> <td>    0.098</td> <td>  -12.815</td> <td> 0.000</td> <td>   -1.455</td> <td>   -1.069</td>\n",
       "</tr>\n",
       "<tr>\n",
       "  <th>price</th>     <td>    0.0011</td> <td>    0.000</td> <td>    3.955</td> <td> 0.000</td> <td>    0.001</td> <td>    0.002</td>\n",
       "</tr>\n",
       "<tr>\n",
       "  <th>stars</th>     <td>    0.4545</td> <td>    0.033</td> <td>   13.945</td> <td> 0.000</td> <td>    0.391</td> <td>    0.518</td>\n",
       "</tr>\n",
       "<tr>\n",
       "  <th>distance</th>  <td>    0.0248</td> <td>    0.005</td> <td>    4.961</td> <td> 0.000</td> <td>    0.015</td> <td>    0.035</td>\n",
       "</tr>\n",
       "</table>"
      ],
      "text/latex": [
       "\\begin{center}\n",
       "\\begin{tabular}{lclc}\n",
       "\\toprule\n",
       "\\textbf{Dep. Variable:}   &  highly\\_rated   & \\textbf{  No. Observations:  } &     2566    \\\\\n",
       "\\textbf{Model:}           &      Probit      & \\textbf{  Df Residuals:      } &     2562    \\\\\n",
       "\\textbf{Method:}          &       MLE        & \\textbf{  Df Model:          } &        3    \\\\\n",
       "\\textbf{Date:}            & Mon, 04 Dec 2023 & \\textbf{  Pseudo R-squ.:     } &   0.1099    \\\\\n",
       "\\textbf{Time:}            &     13:17:08     & \\textbf{  Log-Likelihood:    } &   -1471.4   \\\\\n",
       "\\textbf{converged:}       &       True       & \\textbf{  LL-Null:           } &   -1653.1   \\\\\n",
       "\\textbf{Covariance Type:} &    nonrobust     & \\textbf{  LLR p-value:       } & 1.878e-78   \\\\\n",
       "\\bottomrule\n",
       "\\end{tabular}\n",
       "\\begin{tabular}{lcccccc}\n",
       "                   & \\textbf{coef} & \\textbf{std err} & \\textbf{z} & \\textbf{P$> |$z$|$} & \\textbf{[0.025} & \\textbf{0.975]}  \\\\\n",
       "\\midrule\n",
       "\\textbf{Intercept} &      -1.2621  &        0.098     &   -12.815  &         0.000        &       -1.455    &       -1.069     \\\\\n",
       "\\textbf{price}     &       0.0011  &        0.000     &     3.955  &         0.000        &        0.001    &        0.002     \\\\\n",
       "\\textbf{stars}     &       0.4545  &        0.033     &    13.945  &         0.000        &        0.391    &        0.518     \\\\\n",
       "\\textbf{distance}  &       0.0248  &        0.005     &     4.961  &         0.000        &        0.015    &        0.035     \\\\\n",
       "\\bottomrule\n",
       "\\end{tabular}\n",
       "%\\caption{Probit Regression Results}\n",
       "\\end{center}"
      ],
      "text/plain": [
       "<class 'statsmodels.iolib.summary.Summary'>\n",
       "\"\"\"\n",
       "                          Probit Regression Results                           \n",
       "==============================================================================\n",
       "Dep. Variable:           highly_rated   No. Observations:                 2566\n",
       "Model:                         Probit   Df Residuals:                     2562\n",
       "Method:                           MLE   Df Model:                            3\n",
       "Date:                Mon, 04 Dec 2023   Pseudo R-squ.:                  0.1099\n",
       "Time:                        13:17:08   Log-Likelihood:                -1471.4\n",
       "converged:                       True   LL-Null:                       -1653.1\n",
       "Covariance Type:            nonrobust   LLR p-value:                 1.878e-78\n",
       "==============================================================================\n",
       "                 coef    std err          z      P>|z|      [0.025      0.975]\n",
       "------------------------------------------------------------------------------\n",
       "Intercept     -1.2621      0.098    -12.815      0.000      -1.455      -1.069\n",
       "price          0.0011      0.000      3.955      0.000       0.001       0.002\n",
       "stars          0.4545      0.033     13.945      0.000       0.391       0.518\n",
       "distance       0.0248      0.005      4.961      0.000       0.015       0.035\n",
       "==============================================================================\n",
       "\"\"\""
      ]
     },
     "execution_count": 28,
     "metadata": {},
     "output_type": "execute_result"
    }
   ],
   "source": [
    "probit_result.summary()"
   ]
  },
  {
   "cell_type": "code",
   "execution_count": 29,
   "metadata": {},
   "outputs": [
    {
     "data": {
      "text/plain": [
       "count    2566.000000\n",
       "mean        0.656050\n",
       "std         0.172035\n",
       "min         0.222365\n",
       "25%         0.574868\n",
       "50%         0.653660\n",
       "75%         0.774061\n",
       "max         0.999979\n",
       "Name: pred_probit, dtype: float64"
      ]
     },
     "execution_count": 29,
     "metadata": {},
     "output_type": "execute_result"
    }
   ],
   "source": [
    "merged_hotel_data_moscow[\"pred_probit\"] = probit_result.predict()\n",
    "merged_hotel_data_moscow[\"pred_probit\"].describe()"
   ]
  },
  {
   "cell_type": "code",
   "execution_count": 30,
   "metadata": {},
   "outputs": [
    {
     "data": {
      "text/html": [
       "<table class=\"simpletable\">\n",
       "<caption>Probit Marginal Effects</caption>\n",
       "<tr>\n",
       "  <th>Dep. Variable:</th> <td>highly_rated</td>\n",
       "</tr>\n",
       "<tr>\n",
       "  <th>Method:</th>            <td>dydx</td>    \n",
       "</tr>\n",
       "<tr>\n",
       "  <th>At:</th>               <td>overall</td>  \n",
       "</tr>\n",
       "</table>\n",
       "<table class=\"simpletable\">\n",
       "<tr>\n",
       "      <th></th>        <th>dy/dx</th>    <th>std err</th>      <th>z</th>      <th>P>|z|</th>  <th>[0.025</th>    <th>0.975]</th>  \n",
       "</tr>\n",
       "<tr>\n",
       "  <th>price</th>    <td>    0.0004</td> <td> 9.08e-05</td> <td>    3.972</td> <td> 0.000</td> <td>    0.000</td> <td>    0.001</td>\n",
       "</tr>\n",
       "<tr>\n",
       "  <th>stars</th>    <td>    0.1482</td> <td>    0.009</td> <td>   15.840</td> <td> 0.000</td> <td>    0.130</td> <td>    0.167</td>\n",
       "</tr>\n",
       "<tr>\n",
       "  <th>distance</th> <td>    0.0081</td> <td>    0.002</td> <td>    5.018</td> <td> 0.000</td> <td>    0.005</td> <td>    0.011</td>\n",
       "</tr>\n",
       "</table>"
      ],
      "text/latex": [
       "\\begin{center}\n",
       "\\begin{tabular}{lc}\n",
       "\\toprule\n",
       "\\textbf{Dep. Variable:} & highly\\_rated   \\\\\n",
       "\\textbf{Method:}        &      dydx       \\\\\n",
       "\\textbf{At:}            &    overall      \\\\\n",
       "\\bottomrule\n",
       "\\end{tabular}\n",
       "\\begin{tabular}{ccccccc}\n",
       "    \\textbf{}     & \\textbf{dy/dx} & \\textbf{std err} & \\textbf{z} & \\textbf{P$> |$z$|$} & \\textbf{[0.025} & \\textbf{0.975]}  \\\\\n",
       "\\midrule\n",
       "\\bottomrule\n",
       "\\end{tabular}\n",
       "\\begin{tabular}{lcccccc}\n",
       "\\textbf{price}    &       0.0004   &     9.08e-05     &     3.972  &         0.000        &        0.000    &        0.001     \\\\\n",
       "\\textbf{stars}    &       0.1482   &        0.009     &    15.840  &         0.000        &        0.130    &        0.167     \\\\\n",
       "\\textbf{distance} &       0.0081   &        0.002     &     5.018  &         0.000        &        0.005    &        0.011     \\\\\n",
       "\\bottomrule\n",
       "\\end{tabular}\n",
       "%\\caption{Probit Marginal Effects}\n",
       "\\end{center}"
      ],
      "text/plain": [
       "<class 'statsmodels.iolib.summary.Summary'>\n",
       "\"\"\"\n",
       "       Probit Marginal Effects       \n",
       "=====================================\n",
       "Dep. Variable:           highly_rated\n",
       "Method:                          dydx\n",
       "At:                           overall\n",
       "==============================================================================\n",
       "                dy/dx    std err          z      P>|z|      [0.025      0.975]\n",
       "------------------------------------------------------------------------------\n",
       "price          0.0004   9.08e-05      3.972      0.000       0.000       0.001\n",
       "stars          0.1482      0.009     15.840      0.000       0.130       0.167\n",
       "distance       0.0081      0.002      5.018      0.000       0.005       0.011\n",
       "==============================================================================\n",
       "\"\"\""
      ]
     },
     "execution_count": 30,
     "metadata": {},
     "output_type": "execute_result"
    }
   ],
   "source": [
    "probit_margef_results = probit_result.get_margeff()\n",
    "probit_margef_results.summary()"
   ]
  },
  {
   "cell_type": "code",
   "execution_count": 32,
   "metadata": {},
   "outputs": [],
   "source": [
    "df_plot = pd.melt(\n",
    "    merged_hotel_data_moscow[[\"pred_lpm\", \"pred_logit\", \"pred_probit\"]].rename(\n",
    "        columns={\"pred_logit\": \"Logit\", \"pred_probit\": \"Probit\"}\n",
    "    ),\n",
    "    value_vars=[\"Logit\", \"Probit\"],\n",
    "    id_vars=[\"pred_lpm\"],\n",
    ").sort_values(by=[\"variable\"], ascending=False)"
   ]
  },
  {
   "cell_type": "code",
   "execution_count": 33,
   "metadata": {},
   "outputs": [
    {
     "name": "stderr",
     "output_type": "stream",
     "text": [
      "c:\\Users\\Szabados\\anaconda3\\Lib\\site-packages\\plotnine\\layer.py:364: PlotnineWarning: geom_point : Removed 74 rows containing missing values.\n"
     ]
    },
    {
     "data": {
      "image/png": "[encoded data removed]",
      "text/plain": [
       "<Figure size 640x480 with 1 Axes>"
      ]
     },
     "metadata": {
      "image/png": {
       "height": 480,
       "width": 640
      }
     },
     "output_type": "display_data"
    },
    {
     "data": {
      "text/plain": [
       "<Figure Size: (640 x 480)>"
      ]
     },
     "execution_count": 33,
     "metadata": {},
     "output_type": "execute_result"
    }
   ],
   "source": [
    "color = [\"#1f77b4\", \"#ff7f0e\", \"#b15933\"]\n",
    "\n",
    "g2 = (\n",
    "    ggplot(df_plot, aes(x=\"pred_lpm\", y=\"value\", color=\"variable\"))\n",
    "    + geom_point(size=0.6)\n",
    "    + geom_abline(color=color[2], intercept=0, slope=1, size=1)\n",
    "    + labs(\n",
    "        x=\"Predicted probability of a highly rated hotel\", y=\"Predicted probability\"\n",
    "    )\n",
    "    + scale_y_continuous(expand=[0.00, 0.0], limits=[0, 1], breaks=np.arange(0, 1.1, 0.1))\n",
    "    + scale_x_continuous(expand=[0.00, 0.0], limits=[0, 1], breaks=np.arange(0, 1.1, 0.1))\n",
    "    + scale_color_manual(values=[color[0], color[1]])\n",
    "    + theme_bw()\n",
    "    + theme(\n",
    "        legend_title=element_blank(),\n",
    "        legend_direction=\"horizontal\",\n",
    "        legend_position=(0.75, 0.25),\n",
    "        legend_background=element_blank(),\n",
    "    )\n",
    ")\n",
    "g2"
   ]
  }
 ],
 "metadata": {
  "kernelspec": {
   "display_name": "Python 3 (ipykernel)",
   "language": "python",
   "name": "python3"
  },
  "language_info": {
   "codemirror_mode": {
    "name": "ipython",
    "version": 3
   },
   "file_extension": ".py",
   "mimetype": "text/x-python",
   "name": "python",
   "nbconvert_exporter": "python",
   "pygments_lexer": "ipython3",
   "version": "3.11.4"
  }
 },
 "nbformat": 4,
 "nbformat_minor": 4
}
