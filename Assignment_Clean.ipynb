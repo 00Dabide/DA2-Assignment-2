{
 "cells": [
  {
   "cell_type": "code",
   "execution_count": 57,
   "metadata": {},
   "outputs": [],
   "source": [
    "import os\n",
    "import sys\n",
    "import warnings\n",
    "\n",
    "import numpy as np\n",
    "import pandas as pd\n",
    "import matplotlib.pyplot as plt\n",
    "from mizani.formatters import percent_format\n",
    "from plotnine import *\n",
    "from datetime import datetime\n",
    "import statsmodels.api as sm\n",
    "import statsmodels.formula.api as smf\n",
    "from scipy.stats import norm\n",
    "from IPython.core.display import HTML\n",
    "from stargazer.stargazer import Stargazer\n",
    "import statsmodels.nonparametric.kernel_regression as loess\n",
    "\n",
    "from mizani.transforms import log_trans\n",
    "from mizani.formatters import percent_format\n",
    "from mizani.formatters import log_format"
   ]
  },
  {
   "cell_type": "markdown",
   "metadata": {},
   "source": [
    "# 1.: Cleaning the dataframe"
   ]
  },
  {
   "cell_type": "markdown",
   "metadata": {},
   "source": [
    "## Merge"
   ]
  },
  {
   "cell_type": "code",
   "execution_count": 58,
   "metadata": {},
   "outputs": [],
   "source": [
    "# Read the CSVs into a variable\n",
    "price_data = pd.read_csv('hotels-europe_price.csv')\n",
    "features_data = pd.read_csv('hotels-europe_features.csv')"
   ]
  },
  {
   "cell_type": "code",
   "execution_count": 59,
   "metadata": {},
   "outputs": [],
   "source": [
    "# merge the two datasets with the key 'hotel_id'\n",
    "merged_hotel_data = pd.merge(price_data, features_data, on='hotel_id')"
   ]
  },
  {
   "cell_type": "code",
   "execution_count": 60,
   "metadata": {},
   "outputs": [],
   "source": [
    "# filter the merged data for Moscow\n",
    "merged_hotel_data_moscow = merged_hotel_data.loc[merged_hotel_data[\"city\"] == \"Moscow\"]"
   ]
  },
  {
   "cell_type": "markdown",
   "metadata": {},
   "source": [
    "## Ratings Data Cleaning"
   ]
  },
  {
   "cell_type": "code",
   "execution_count": 61,
   "metadata": {},
   "outputs": [
    {
     "name": "stdout",
     "output_type": "stream",
     "text": [
      "Number of null values in the 'rating' column: 792\n"
     ]
    }
   ],
   "source": [
    "# Step 1: Identify the number of null values in the 'rating' column\n",
    "null_count = merged_hotel_data_moscow['rating'].isnull().sum()\n",
    "print(f\"Number of null values in the 'rating' column: {null_count}\")"
   ]
  },
  {
   "cell_type": "code",
   "execution_count": 62,
   "metadata": {},
   "outputs": [
    {
     "name": "stderr",
     "output_type": "stream",
     "text": [
      "C:\\Users\\Szabados\\AppData\\Local\\Temp\\ipykernel_8384\\2179072277.py:2: SettingWithCopyWarning: \n",
      "A value is trying to be set on a copy of a slice from a DataFrame\n",
      "\n",
      "See the caveats in the documentation: https://pandas.pydata.org/pandas-docs/stable/user_guide/indexing.html#returning-a-view-versus-a-copy\n"
     ]
    }
   ],
   "source": [
    "# Step 2: Transform null values to 0\n",
    "merged_hotel_data_moscow['rating'].fillna('NULL', inplace=True)"
   ]
  },
  {
   "cell_type": "code",
   "execution_count": 63,
   "metadata": {},
   "outputs": [
    {
     "name": "stdout",
     "output_type": "stream",
     "text": [
      "0\n"
     ]
    }
   ],
   "source": [
    "# Optionally, verify the transformation\n",
    "print(merged_hotel_data_moscow['rating'].isnull().sum())  # Should output 0"
   ]
  },
  {
   "cell_type": "code",
   "execution_count": 64,
   "metadata": {},
   "outputs": [
    {
     "name": "stdout",
     "output_type": "stream",
     "text": [
      "Number of rows with 'rating' as 'NULL': 0\n"
     ]
    }
   ],
   "source": [
    "# Drop rows where 'rating_reviewcount' is 'NULL'\n",
    "merged_hotel_data_moscow = merged_hotel_data_moscow[merged_hotel_data_moscow['rating'] != 'NULL']\n",
    "\n",
    "# Optionally, verify the operation\n",
    "print(f\"Number of rows with 'rating' as 'NULL': {len(merged_hotel_data_moscow[merged_hotel_data_moscow['rating'] == 'NULL'])}\")"
   ]
  },
  {
   "cell_type": "markdown",
   "metadata": {},
   "source": [
    "## `rating_reviewcount` cleaning"
   ]
  },
  {
   "cell_type": "code",
   "execution_count": 65,
   "metadata": {},
   "outputs": [
    {
     "name": "stdout",
     "output_type": "stream",
     "text": [
      "Number of null values in the 'rating' column: 0\n"
     ]
    }
   ],
   "source": [
    "# Step 1: Identify the number of null values in the 'rating' column\n",
    "null_count = merged_hotel_data_moscow['rating_reviewcount'].isnull().sum()\n",
    "print(f\"Number of null values in the 'rating' column: {null_count}\")"
   ]
  },
  {
   "cell_type": "code",
   "execution_count": 66,
   "metadata": {},
   "outputs": [],
   "source": [
    "# Step 2: Transform null values to 0\n",
    "merged_hotel_data_moscow['rating_reviewcount'].fillna('NULL', inplace=True)"
   ]
  },
  {
   "cell_type": "code",
   "execution_count": 67,
   "metadata": {},
   "outputs": [
    {
     "name": "stdout",
     "output_type": "stream",
     "text": [
      "0\n"
     ]
    }
   ],
   "source": [
    "# Optionally, verify the transformation\n",
    "print(merged_hotel_data_moscow['rating_reviewcount'].isnull().sum())  # Should output 0"
   ]
  },
  {
   "cell_type": "code",
   "execution_count": 68,
   "metadata": {},
   "outputs": [
    {
     "name": "stdout",
     "output_type": "stream",
     "text": [
      "Number of rows with 'rating_reviewcount' as 'NULL': 0\n"
     ]
    }
   ],
   "source": [
    "# Drop rows where 'rating_reviewcount' is 'NULL'\n",
    "merged_hotel_data_moscow = merged_hotel_data_moscow[merged_hotel_data_moscow['rating_reviewcount'] != 'NULL']\n",
    "\n",
    "# Optionally, verify the operation\n",
    "print(f\"Number of rows with 'rating_reviewcount' as 'NULL': {len(merged_hotel_data_moscow[merged_hotel_data_moscow['rating_reviewcount'] == 'NULL'])}\")"
   ]
  },
  {
   "cell_type": "markdown",
   "metadata": {},
   "source": [
    "## Create `highly_rated` column"
   ]
  },
  {
   "cell_type": "code",
   "execution_count": 69,
   "metadata": {},
   "outputs": [
    {
     "data": {
      "text/html": [
       "<div>\n",
       "<style scoped>\n",
       "    .dataframe tbody tr th:only-of-type {\n",
       "        vertical-align: middle;\n",
       "    }\n",
       "\n",
       "    .dataframe tbody tr th {\n",
       "        vertical-align: top;\n",
       "    }\n",
       "\n",
       "    .dataframe thead th {\n",
       "        text-align: right;\n",
       "    }\n",
       "</style>\n",
       "<table border=\"1\" class=\"dataframe\">\n",
       "  <thead>\n",
       "    <tr style=\"text-align: right;\">\n",
       "      <th></th>\n",
       "      <th>hotel_id</th>\n",
       "      <th>price</th>\n",
       "      <th>offer</th>\n",
       "      <th>offer_cat</th>\n",
       "      <th>year</th>\n",
       "      <th>month</th>\n",
       "      <th>weekend</th>\n",
       "      <th>holiday</th>\n",
       "      <th>nnights</th>\n",
       "      <th>scarce_room</th>\n",
       "      <th>...</th>\n",
       "      <th>city_actual</th>\n",
       "      <th>rating_reviewcount</th>\n",
       "      <th>center1label</th>\n",
       "      <th>center2label</th>\n",
       "      <th>neighbourhood</th>\n",
       "      <th>ratingta</th>\n",
       "      <th>ratingta_count</th>\n",
       "      <th>distance_alter</th>\n",
       "      <th>accommodation_type</th>\n",
       "      <th>highly_rated</th>\n",
       "    </tr>\n",
       "  </thead>\n",
       "  <tbody>\n",
       "    <tr>\n",
       "      <th>77578</th>\n",
       "      <td>10947</td>\n",
       "      <td>59</td>\n",
       "      <td>1</td>\n",
       "      <td>15-50% offer</td>\n",
       "      <td>2017</td>\n",
       "      <td>12</td>\n",
       "      <td>0</td>\n",
       "      <td>1</td>\n",
       "      <td>1</td>\n",
       "      <td>0</td>\n",
       "      <td>...</td>\n",
       "      <td>Moscow</td>\n",
       "      <td>240.0</td>\n",
       "      <td>City centre</td>\n",
       "      <td>Solntsevo Exhibition Hall</td>\n",
       "      <td>Alexeevsky</td>\n",
       "      <td>3.0</td>\n",
       "      <td>2351.0</td>\n",
       "      <td>15.0</td>\n",
       "      <td>Hotel</td>\n",
       "      <td>0</td>\n",
       "    </tr>\n",
       "    <tr>\n",
       "      <th>77579</th>\n",
       "      <td>10947</td>\n",
       "      <td>58</td>\n",
       "      <td>1</td>\n",
       "      <td>15-50% offer</td>\n",
       "      <td>2018</td>\n",
       "      <td>4</td>\n",
       "      <td>1</td>\n",
       "      <td>0</td>\n",
       "      <td>1</td>\n",
       "      <td>0</td>\n",
       "      <td>...</td>\n",
       "      <td>Moscow</td>\n",
       "      <td>240.0</td>\n",
       "      <td>City centre</td>\n",
       "      <td>Solntsevo Exhibition Hall</td>\n",
       "      <td>Alexeevsky</td>\n",
       "      <td>3.0</td>\n",
       "      <td>2351.0</td>\n",
       "      <td>15.0</td>\n",
       "      <td>Hotel</td>\n",
       "      <td>0</td>\n",
       "    </tr>\n",
       "    <tr>\n",
       "      <th>77580</th>\n",
       "      <td>10947</td>\n",
       "      <td>58</td>\n",
       "      <td>1</td>\n",
       "      <td>15-50% offer</td>\n",
       "      <td>2018</td>\n",
       "      <td>5</td>\n",
       "      <td>1</td>\n",
       "      <td>0</td>\n",
       "      <td>1</td>\n",
       "      <td>0</td>\n",
       "      <td>...</td>\n",
       "      <td>Moscow</td>\n",
       "      <td>240.0</td>\n",
       "      <td>City centre</td>\n",
       "      <td>Solntsevo Exhibition Hall</td>\n",
       "      <td>Alexeevsky</td>\n",
       "      <td>3.0</td>\n",
       "      <td>2351.0</td>\n",
       "      <td>15.0</td>\n",
       "      <td>Hotel</td>\n",
       "      <td>0</td>\n",
       "    </tr>\n",
       "    <tr>\n",
       "      <th>77581</th>\n",
       "      <td>10947</td>\n",
       "      <td>231</td>\n",
       "      <td>1</td>\n",
       "      <td>15-50% offer</td>\n",
       "      <td>2017</td>\n",
       "      <td>12</td>\n",
       "      <td>0</td>\n",
       "      <td>1</td>\n",
       "      <td>4</td>\n",
       "      <td>0</td>\n",
       "      <td>...</td>\n",
       "      <td>Moscow</td>\n",
       "      <td>240.0</td>\n",
       "      <td>City centre</td>\n",
       "      <td>Solntsevo Exhibition Hall</td>\n",
       "      <td>Alexeevsky</td>\n",
       "      <td>3.0</td>\n",
       "      <td>2351.0</td>\n",
       "      <td>15.0</td>\n",
       "      <td>Hotel</td>\n",
       "      <td>0</td>\n",
       "    </tr>\n",
       "    <tr>\n",
       "      <th>77582</th>\n",
       "      <td>10947</td>\n",
       "      <td>81</td>\n",
       "      <td>0</td>\n",
       "      <td>0% no offer</td>\n",
       "      <td>2017</td>\n",
       "      <td>11</td>\n",
       "      <td>0</td>\n",
       "      <td>0</td>\n",
       "      <td>1</td>\n",
       "      <td>0</td>\n",
       "      <td>...</td>\n",
       "      <td>Moscow</td>\n",
       "      <td>240.0</td>\n",
       "      <td>City centre</td>\n",
       "      <td>Solntsevo Exhibition Hall</td>\n",
       "      <td>Alexeevsky</td>\n",
       "      <td>3.0</td>\n",
       "      <td>2351.0</td>\n",
       "      <td>15.0</td>\n",
       "      <td>Hotel</td>\n",
       "      <td>0</td>\n",
       "    </tr>\n",
       "  </tbody>\n",
       "</table>\n",
       "<p>5 rows × 25 columns</p>\n",
       "</div>"
      ],
      "text/plain": [
       "       hotel_id  price  offer     offer_cat  year  month  weekend  holiday  \\\n",
       "77578     10947     59      1  15-50% offer  2017     12        0        1   \n",
       "77579     10947     58      1  15-50% offer  2018      4        1        0   \n",
       "77580     10947     58      1  15-50% offer  2018      5        1        0   \n",
       "77581     10947    231      1  15-50% offer  2017     12        0        1   \n",
       "77582     10947     81      0   0% no offer  2017     11        0        0   \n",
       "\n",
       "       nnights  scarce_room  ... city_actual  rating_reviewcount  \\\n",
       "77578        1            0  ...      Moscow               240.0   \n",
       "77579        1            0  ...      Moscow               240.0   \n",
       "77580        1            0  ...      Moscow               240.0   \n",
       "77581        4            0  ...      Moscow               240.0   \n",
       "77582        1            0  ...      Moscow               240.0   \n",
       "\n",
       "       center1label               center2label neighbourhood ratingta  \\\n",
       "77578   City centre  Solntsevo Exhibition Hall    Alexeevsky      3.0   \n",
       "77579   City centre  Solntsevo Exhibition Hall    Alexeevsky      3.0   \n",
       "77580   City centre  Solntsevo Exhibition Hall    Alexeevsky      3.0   \n",
       "77581   City centre  Solntsevo Exhibition Hall    Alexeevsky      3.0   \n",
       "77582   City centre  Solntsevo Exhibition Hall    Alexeevsky      3.0   \n",
       "\n",
       "       ratingta_count distance_alter accommodation_type highly_rated  \n",
       "77578          2351.0           15.0              Hotel            0  \n",
       "77579          2351.0           15.0              Hotel            0  \n",
       "77580          2351.0           15.0              Hotel            0  \n",
       "77581          2351.0           15.0              Hotel            0  \n",
       "77582          2351.0           15.0              Hotel            0  \n",
       "\n",
       "[5 rows x 25 columns]"
      ]
     },
     "execution_count": 69,
     "metadata": {},
     "output_type": "execute_result"
    }
   ],
   "source": [
    "# new column 'highly_rated'\n",
    "# Set to 1 if 'rating' is greater than or equal to 4, and 0 otherwise\n",
    "merged_hotel_data_moscow['highly_rated'] = merged_hotel_data_moscow['rating'].apply(lambda x: 1 if x >= 4 else 0)\n",
    "merged_hotel_data_moscow.head()"
   ]
  },
  {
   "cell_type": "markdown",
   "metadata": {},
   "source": [
    "## Basic OLS Regression"
   ]
  },
  {
   "cell_type": "code",
   "execution_count": 70,
   "metadata": {},
   "outputs": [
    {
     "name": "stdout",
     "output_type": "stream",
     "text": [
      "                            OLS Regression Results                            \n",
      "==============================================================================\n",
      "Dep. Variable:           highly_rated   R-squared:                       0.130\n",
      "Model:                            OLS   Adj. R-squared:                  0.129\n",
      "Method:                 Least Squares   F-statistic:                     127.6\n",
      "Date:                Sun, 03 Dec 2023   Prob (F-statistic):           5.24e-77\n",
      "Time:                        22:16:21   Log-Likelihood:                -1554.0\n",
      "No. Observations:                2566   AIC:                             3116.\n",
      "Df Residuals:                    2562   BIC:                             3139.\n",
      "Df Model:                           3                                         \n",
      "Covariance Type:            nonrobust                                         \n",
      "==============================================================================\n",
      "                 coef    std err          t      P>|t|      [0.025      0.975]\n",
      "------------------------------------------------------------------------------\n",
      "const          0.0813      0.032      2.545      0.011       0.019       0.144\n",
      "price          0.0002   6.28e-05      2.785      0.005    5.17e-05       0.000\n",
      "stars          0.1583      0.010     15.775      0.000       0.139       0.178\n",
      "distance       0.0084      0.002      5.442      0.000       0.005       0.011\n",
      "==============================================================================\n",
      "Omnibus:                     2450.991   Durbin-Watson:                   0.242\n",
      "Prob(Omnibus):                  0.000   Jarque-Bera (JB):              256.266\n",
      "Skew:                          -0.481   Prob(JB):                     2.25e-56\n",
      "Kurtosis:                       1.787   Cond. No.                         740.\n",
      "==============================================================================\n",
      "\n",
      "Notes:\n",
      "[1] Standard Errors assume that the covariance matrix of the errors is correctly specified.\n"
     ]
    }
   ],
   "source": [
    "# Assuming 'merged_hotel_data' is your DataFrame\n",
    "# Selecting some potential independent variables (adjust as needed)\n",
    "X = merged_hotel_data_moscow[['price', 'stars', 'distance']]  # Example features\n",
    "y = merged_hotel_data_moscow['highly_rated']  # Dependent variable\n",
    "\n",
    "# Adding a constant to the model (intercept)\n",
    "X = sm.add_constant(X)\n",
    "\n",
    "# Building the OLS model\n",
    "model = sm.OLS(y, X).fit()\n",
    "\n",
    "# Printing the summary of the model\n",
    "print(model.summary())\n"
   ]
  },
  {
   "cell_type": "markdown",
   "metadata": {},
   "source": [
    "# Part 2\n",
    "\n",
    "### **Estimate with distance and stars as explanatory variables**:\n",
    "- linear probability models\n",
    "- logit models\n",
    "- probit models\n",
    "\n",
    "*You may add other variables if you wish*.\n",
    "\n",
    "### **Compare**:\n",
    "- Coefficients\n",
    "- Marginal differences\n",
    "- Predicted probabilities\n",
    "\n",
    "Discuss your results!"
   ]
  },
  {
   "cell_type": "markdown",
   "metadata": {},
   "source": [
    "## Linear Probability Models"
   ]
  },
  {
   "cell_type": "code",
   "execution_count": 71,
   "metadata": {},
   "outputs": [],
   "source": [
    "lpm1 = smf.ols(\n",
    "    \"highly_rated ~ price + stars + distance\",\n",
    "    merged_hotel_data_moscow,\n",
    ").fit(covtype=\"HC1\")"
   ]
  },
  {
   "cell_type": "code",
   "execution_count": 72,
   "metadata": {},
   "outputs": [
    {
     "data": {
      "text/html": [
       "<table style=\"text-align:center\"><tr><td colspan=\"2\" style=\"border-bottom: 1px solid black\"></td></tr>\n",
       "<tr><td style=\"text-align:left\"></td><td colspan=\"1\"><em>Dependent variable: highly_rated</em></td></tr><tr><td style=\"text-align:left\"></td><tr><td style=\"text-align:left\"></td><td>(1)</td></tr>\n",
       "<tr><td colspan=\"2\" style=\"border-bottom: 1px solid black\"></td></tr>\n",
       "\n",
       "<tr><td style=\"text-align:left\">price</td><td>0.000<sup>***</sup></td></tr>\n",
       "<tr><td style=\"text-align:left\"></td><td>(0.000)</td></tr>\n",
       "<tr><td style=\"text-align:left\">stars</td><td>0.158<sup>***</sup></td></tr>\n",
       "<tr><td style=\"text-align:left\"></td><td>(0.010)</td></tr>\n",
       "<tr><td style=\"text-align:left\">distance</td><td>0.008<sup>***</sup></td></tr>\n",
       "<tr><td style=\"text-align:left\"></td><td>(0.002)</td></tr>\n",
       "\n",
       "<tr><td style=\"text-align: left\">Offer indicators</td><td>Yes</td></tr><td colspan=\"2\" style=\"border-bottom: 1px solid black\"></td></tr>\n",
       "<tr><td style=\"text-align: left\">Observations</td><td>2566</td></tr><tr><td style=\"text-align: left\">R<sup>2</sup></td><td>0.130</td></tr><tr><td style=\"text-align: left\">Adjusted R<sup>2</sup></td><td>0.129</td></tr><tr><td style=\"text-align: left\">Residual Std. Error</td><td>0.444 (df=2562)</td></tr><tr><td style=\"text-align: left\">F Statistic</td><td>127.554<sup>***</sup> (df=3; 2562)</td></tr>\n",
       "<tr><td colspan=\"2\" style=\"border-bottom: 1px solid black\"></td></tr><tr><td style=\"text-align: left\">Note:</td><td colspan=\"1\" style=\"text-align: right\"><sup>*</sup>p&lt;0.1; <sup>**</sup>p&lt;0.05; <sup>***</sup>p&lt;0.01</td></tr></table>"
      ],
      "text/plain": [
       "<stargazer.stargazer.Stargazer at 0x1f643a4b290>"
      ]
     },
     "execution_count": 72,
     "metadata": {},
     "output_type": "execute_result"
    }
   ],
   "source": [
    "stargazer = Stargazer([lpm1])\n",
    "stargazer.covariate_order(\n",
    "    [\n",
    "        \"price\",\n",
    "        \"stars\",\n",
    "        \"distance\",\n",
    "    ]\n",
    ")\n",
    "stargazer.rename_covariates({\"Intercept\": \"Constant\"})\n",
    "stargazer.add_line(\"Offer indicators\", [\"Yes\"])\n",
    "stargazer\n"
   ]
  },
  {
   "cell_type": "code",
   "execution_count": 73,
   "metadata": {},
   "outputs": [
    {
     "data": {
      "text/plain": [
       "count    2566.0000\n",
       "mean        0.6551\n",
       "std         0.1714\n",
       "min         0.2487\n",
       "25%         0.5736\n",
       "50%         0.6289\n",
       "75%         0.7580\n",
       "max         1.4228\n",
       "Name: pred_lpm, dtype: float64"
      ]
     },
     "execution_count": 73,
     "metadata": {},
     "output_type": "execute_result"
    }
   ],
   "source": [
    "merged_hotel_data_moscow[\"pred_lpm\"] = lpm1.predict()\n",
    "merged_hotel_data_moscow[\"pred_lpm\"].describe().round(4)"
   ]
  },
  {
   "cell_type": "code",
   "execution_count": 74,
   "metadata": {},
   "outputs": [
    {
     "name": "stderr",
     "output_type": "stream",
     "text": [
      "c:\\Users\\Szabados\\anaconda3\\Lib\\site-packages\\plotnine\\layer.py:284: PlotnineWarning: stat_bin : Removed 37 rows containing non-finite values.\n"
     ]
    },
    {
     "name": "stderr",
     "output_type": "stream",
     "text": [
      "c:\\Users\\Szabados\\anaconda3\\Lib\\site-packages\\plotnine\\layer.py:364: PlotnineWarning: geom_histogram : Removed 4 rows containing missing values.\n"
     ]
    },
    {
     "data": {
      "image/png": "[encoded data removed]",
      "text/plain": [
       "<Figure size 640x480 with 1 Axes>"
      ]
     },
     "metadata": {
      "image/png": {
       "height": 480,
       "width": 640
      }
     },
     "output_type": "display_data"
    },
    {
     "data": {
      "text/plain": [
       "<Figure Size: (640 x 480)>"
      ]
     },
     "execution_count": 74,
     "metadata": {},
     "output_type": "execute_result"
    }
   ],
   "source": [
    "g1 = (\n",
    "    ggplot(merged_hotel_data_moscow, aes(x=\"pred_lpm\"))\n",
    "    + geom_histogram(\n",
    "        aes(y=\"stat(count)/sum(stat(count))\"),\n",
    "        binwidth=0.02,\n",
    "        center=0.65,\n",
    "        color=\"white\",\n",
    "        fill=\"darkblue\",\n",
    "        closed=\"right\",\n",
    "    )\n",
    "    + labs(x=\"Predicted probability of a highly rated hotel\", y=\"Percent\")\n",
    "    + scale_y_continuous(\n",
    "        expand=[0.00, 0.0],\n",
    "        limits=[0, 0.07],\n",
    "        breaks=np.arange(0, 0.07, 0.01),\n",
    "        labels=percent_format(),\n",
    "    )\n",
    "    + scale_x_continuous(expand=[0.1, 0.01], limits=[0, 1], breaks=np.arange(0, 1, 0.2))\n",
    "    + theme_bw()\n",
    ")\n",
    "g1\n"
   ]
  },
  {
   "cell_type": "code",
   "execution_count": 75,
   "metadata": {},
   "outputs": [
    {
     "data": {
      "text/html": [
       "<div>\n",
       "<style scoped>\n",
       "    .dataframe tbody tr th:only-of-type {\n",
       "        vertical-align: middle;\n",
       "    }\n",
       "\n",
       "    .dataframe tbody tr th {\n",
       "        vertical-align: top;\n",
       "    }\n",
       "\n",
       "    .dataframe thead th {\n",
       "        text-align: right;\n",
       "    }\n",
       "</style>\n",
       "<table border=\"1\" class=\"dataframe\">\n",
       "  <thead>\n",
       "    <tr style=\"text-align: right;\">\n",
       "      <th></th>\n",
       "      <th>price</th>\n",
       "      <th>stars</th>\n",
       "      <th>distance</th>\n",
       "    </tr>\n",
       "  </thead>\n",
       "  <tbody>\n",
       "    <tr>\n",
       "      <th>count</th>\n",
       "      <td>28.0</td>\n",
       "      <td>28.0</td>\n",
       "      <td>28.0</td>\n",
       "    </tr>\n",
       "    <tr>\n",
       "      <th>mean</th>\n",
       "      <td>31.2</td>\n",
       "      <td>1.0</td>\n",
       "      <td>0.7</td>\n",
       "    </tr>\n",
       "    <tr>\n",
       "      <th>std</th>\n",
       "      <td>6.1</td>\n",
       "      <td>0.0</td>\n",
       "      <td>0.2</td>\n",
       "    </tr>\n",
       "    <tr>\n",
       "      <th>min</th>\n",
       "      <td>19.0</td>\n",
       "      <td>1.0</td>\n",
       "      <td>0.5</td>\n",
       "    </tr>\n",
       "    <tr>\n",
       "      <th>25%</th>\n",
       "      <td>28.0</td>\n",
       "      <td>1.0</td>\n",
       "      <td>0.5</td>\n",
       "    </tr>\n",
       "    <tr>\n",
       "      <th>50%</th>\n",
       "      <td>29.0</td>\n",
       "      <td>1.0</td>\n",
       "      <td>0.5</td>\n",
       "    </tr>\n",
       "    <tr>\n",
       "      <th>75%</th>\n",
       "      <td>35.2</td>\n",
       "      <td>1.0</td>\n",
       "      <td>1.0</td>\n",
       "    </tr>\n",
       "    <tr>\n",
       "      <th>max</th>\n",
       "      <td>48.0</td>\n",
       "      <td>1.0</td>\n",
       "      <td>1.0</td>\n",
       "    </tr>\n",
       "  </tbody>\n",
       "</table>\n",
       "</div>"
      ],
      "text/plain": [
       "       price  stars  distance\n",
       "count   28.0   28.0      28.0\n",
       "mean    31.2    1.0       0.7\n",
       "std      6.1    0.0       0.2\n",
       "min     19.0    1.0       0.5\n",
       "25%     28.0    1.0       0.5\n",
       "50%     29.0    1.0       0.5\n",
       "75%     35.2    1.0       1.0\n",
       "max     48.0    1.0       1.0"
      ]
     },
     "execution_count": 75,
     "metadata": {},
     "output_type": "execute_result"
    }
   ],
   "source": [
    "cuts = 100\n",
    "merged_hotel_data_moscow[\"q100_pred_lpm\"] = pd.qcut(merged_hotel_data_moscow[\"pred_lpm\"], q=cuts, labels=range(1, cuts + 1))\n",
    "\n",
    "merged_hotel_data_moscow.loc[\n",
    "    merged_hotel_data_moscow[\"q100_pred_lpm\"] == 1,\n",
    "    [\n",
    "        \"price\",\n",
    "        \"stars\",\n",
    "        \"distance\"\n",
    "    ],\n",
    "].describe().round(1)\n",
    "\n",
    "# Bottom 1%"
   ]
  },
  {
   "cell_type": "code",
   "execution_count": 76,
   "metadata": {},
   "outputs": [
    {
     "data": {
      "text/html": [
       "<div>\n",
       "<style scoped>\n",
       "    .dataframe tbody tr th:only-of-type {\n",
       "        vertical-align: middle;\n",
       "    }\n",
       "\n",
       "    .dataframe tbody tr th {\n",
       "        vertical-align: top;\n",
       "    }\n",
       "\n",
       "    .dataframe thead th {\n",
       "        text-align: right;\n",
       "    }\n",
       "</style>\n",
       "<table border=\"1\" class=\"dataframe\">\n",
       "  <thead>\n",
       "    <tr style=\"text-align: right;\">\n",
       "      <th></th>\n",
       "      <th>price</th>\n",
       "      <th>stars</th>\n",
       "      <th>distance</th>\n",
       "    </tr>\n",
       "  </thead>\n",
       "  <tbody>\n",
       "    <tr>\n",
       "      <th>count</th>\n",
       "      <td>22.0</td>\n",
       "      <td>22.0</td>\n",
       "      <td>22.0</td>\n",
       "    </tr>\n",
       "    <tr>\n",
       "      <th>mean</th>\n",
       "      <td>1076.2</td>\n",
       "      <td>5.0</td>\n",
       "      <td>6.9</td>\n",
       "    </tr>\n",
       "    <tr>\n",
       "      <th>std</th>\n",
       "      <td>568.5</td>\n",
       "      <td>0.0</td>\n",
       "      <td>6.9</td>\n",
       "    </tr>\n",
       "    <tr>\n",
       "      <th>min</th>\n",
       "      <td>432.0</td>\n",
       "      <td>5.0</td>\n",
       "      <td>0.0</td>\n",
       "    </tr>\n",
       "    <tr>\n",
       "      <th>25%</th>\n",
       "      <td>617.0</td>\n",
       "      <td>5.0</td>\n",
       "      <td>0.5</td>\n",
       "    </tr>\n",
       "    <tr>\n",
       "      <th>50%</th>\n",
       "      <td>1058.0</td>\n",
       "      <td>5.0</td>\n",
       "      <td>2.0</td>\n",
       "    </tr>\n",
       "    <tr>\n",
       "      <th>75%</th>\n",
       "      <td>1224.2</td>\n",
       "      <td>5.0</td>\n",
       "      <td>14.0</td>\n",
       "    </tr>\n",
       "    <tr>\n",
       "      <th>max</th>\n",
       "      <td>2471.0</td>\n",
       "      <td>5.0</td>\n",
       "      <td>16.0</td>\n",
       "    </tr>\n",
       "  </tbody>\n",
       "</table>\n",
       "</div>"
      ],
      "text/plain": [
       "        price  stars  distance\n",
       "count    22.0   22.0      22.0\n",
       "mean   1076.2    5.0       6.9\n",
       "std     568.5    0.0       6.9\n",
       "min     432.0    5.0       0.0\n",
       "25%     617.0    5.0       0.5\n",
       "50%    1058.0    5.0       2.0\n",
       "75%    1224.2    5.0      14.0\n",
       "max    2471.0    5.0      16.0"
      ]
     },
     "execution_count": 76,
     "metadata": {},
     "output_type": "execute_result"
    }
   ],
   "source": [
    "merged_hotel_data_moscow.loc[\n",
    "    merged_hotel_data_moscow[\"q100_pred_lpm\"] == 100,\n",
    "    [\n",
    "        \"price\",\n",
    "        \"stars\",\n",
    "        \"distance\"\n",
    "    ],\n",
    "].describe().round(1)\n",
    "\n",
    "# Top 1%"
   ]
  },
  {
   "cell_type": "code",
   "execution_count": null,
   "metadata": {},
   "outputs": [],
   "source": []
  }
 ],
 "metadata": {
  "kernelspec": {
   "display_name": "Python 3 (ipykernel)",
   "language": "python",
   "name": "python3"
  },
  "language_info": {
   "codemirror_mode": {
    "name": "ipython",
    "version": 3
   },
   "file_extension": ".py",
   "mimetype": "text/x-python",
   "name": "python",
   "nbconvert_exporter": "python",
   "pygments_lexer": "ipython3",
   "version": "3.11.4"
  }
 },
 "nbformat": 4,
 "nbformat_minor": 4
}
