{
 "cells": [
  {
   "cell_type": "code",
   "execution_count": 1,
   "metadata": {
    "tags": []
   },
   "outputs": [],
   "source": [
    "import os\n",
    "import sys\n",
    "import warnings\n",
    "\n",
    "import numpy as np\n",
    "import pandas as pd\n",
    "import matplotlib.pyplot as plt\n",
    "from mizani.formatters import percent_format\n",
    "from plotnine import *\n",
    "from datetime import datetime\n",
    "import statsmodels.api as sm\n",
    "import statsmodels.formula.api as smf\n",
    "from scipy.stats import norm\n",
    "from IPython.core.display import HTML\n",
    "from stargazer.stargazer import Stargazer\n",
    "import statsmodels.nonparametric.kernel_regression as loess\n",
    "\n",
    "from mizani.transforms import log_trans\n",
    "from mizani.formatters import percent_format\n",
    "from mizani.formatters import log_format"
   ]
  },
  {
   "cell_type": "markdown",
   "metadata": {},
   "source": [
    "# 1.1.: Cleaning the dataframe"
   ]
  },
  {
   "cell_type": "markdown",
   "metadata": {},
   "source": [
    "## Merge"
   ]
  },
  {
   "cell_type": "code",
   "execution_count": 2,
   "metadata": {
    "tags": []
   },
   "outputs": [],
   "source": [
    "# Read the CSVs into a variable\n",
    "price_data = pd.read_csv('hotels-europe_price.csv')\n",
    "features_data = pd.read_csv('hotels-europe_features.csv')"
   ]
  },
  {
   "cell_type": "code",
   "execution_count": 3,
   "metadata": {
    "tags": []
   },
   "outputs": [],
   "source": [
    "# merge the two datasets with the key 'hotel_id'\n",
    "merged_hotel_data = pd.merge(price_data, features_data, on='hotel_id')"
   ]
  },
  {
   "cell_type": "code",
   "execution_count": 4,
   "metadata": {
    "tags": []
   },
   "outputs": [],
   "source": [
    "# filter the merged data for Moscow\n",
    "merged_hotel_data_moscow = merged_hotel_data.loc[(merged_hotel_data[\"city_actual\"] == \"Moscow\") &\n",
    "                                                 (merged_hotel_data[\"accommodation_type\"] == \"Hotel\") &\n",
    "                                                 (merged_hotel_data[\"year\"] == 2017) &\n",
    "                                                 (merged_hotel_data[\"month\"] == 12) &\n",
    "                                                 (merged_hotel_data[\"weekend\"] == 0) &\n",
    "                                                 (merged_hotel_data[\"price\"] < 500)]"
   ]
  },
  {
   "cell_type": "markdown",
   "metadata": {},
   "source": [
    "## Ratings Data Cleaning"
   ]
  },
  {
   "cell_type": "code",
   "execution_count": 5,
   "metadata": {
    "tags": []
   },
   "outputs": [
    {
     "name": "stdout",
     "output_type": "stream",
     "text": [
      "Number of null values in the 'rating' column: 63\n"
     ]
    }
   ],
   "source": [
    "# Step 1: Identify the number of null values in the 'rating' column\n",
    "null_count = merged_hotel_data_moscow['rating'].isnull().sum()\n",
    "print(f\"Number of null values in the 'rating' column: {null_count}\")"
   ]
  },
  {
   "cell_type": "code",
   "execution_count": 6,
   "metadata": {
    "tags": []
   },
   "outputs": [
    {
     "name": "stderr",
     "output_type": "stream",
     "text": [
      "C:\\Users\\iandr\\AppData\\Local\\Temp\\ipykernel_48980\\2179072277.py:2: FutureWarning: Setting an item of incompatible dtype is deprecated and will raise in a future error of pandas. Value 'NULL' has dtype incompatible with float64, please explicitly cast to a compatible dtype first.\n",
      "C:\\Users\\iandr\\AppData\\Local\\Temp\\ipykernel_48980\\2179072277.py:2: SettingWithCopyWarning: \n",
      "A value is trying to be set on a copy of a slice from a DataFrame\n",
      "\n",
      "See the caveats in the documentation: https://pandas.pydata.org/pandas-docs/stable/user_guide/indexing.html#returning-a-view-versus-a-copy\n"
     ]
    }
   ],
   "source": [
    "# Step 2: Transform null values to 0\n",
    "merged_hotel_data_moscow['rating'].fillna('NULL', inplace=True)"
   ]
  },
  {
   "cell_type": "code",
   "execution_count": 7,
   "metadata": {
    "tags": []
   },
   "outputs": [
    {
     "name": "stdout",
     "output_type": "stream",
     "text": [
      "0\n"
     ]
    }
   ],
   "source": [
    "# Optionally, verify the transformation\n",
    "print(merged_hotel_data_moscow['rating'].isnull().sum())  # Should output 0"
   ]
  },
  {
   "cell_type": "code",
   "execution_count": 8,
   "metadata": {
    "tags": []
   },
   "outputs": [
    {
     "name": "stdout",
     "output_type": "stream",
     "text": [
      "Number of rows with 'rating' as 'NULL': 0\n"
     ]
    }
   ],
   "source": [
    "# Drop rows where 'rating' is 'NULL'\n",
    "merged_hotel_data_moscow = merged_hotel_data_moscow[merged_hotel_data_moscow['rating'] != 'NULL']\n",
    "\n",
    "# Optionally, verify the operation\n",
    "print(f\"Number of rows with 'rating' as 'NULL': {len(merged_hotel_data_moscow[merged_hotel_data_moscow['rating'] == 'NULL'])}\")"
   ]
  },
  {
   "cell_type": "markdown",
   "metadata": {},
   "source": [
    "## `rating_reviewcount` cleaning"
   ]
  },
  {
   "cell_type": "code",
   "execution_count": 9,
   "metadata": {
    "tags": []
   },
   "outputs": [
    {
     "name": "stdout",
     "output_type": "stream",
     "text": [
      "Number of null values in the 'rating' column: 0\n"
     ]
    }
   ],
   "source": [
    "# Step 1: Identify the number of null values in the 'rating' column\n",
    "null_count = merged_hotel_data_moscow['rating_reviewcount'].isnull().sum()\n",
    "print(f\"Number of null values in the 'rating' column: {null_count}\")"
   ]
  },
  {
   "cell_type": "code",
   "execution_count": 10,
   "metadata": {
    "tags": []
   },
   "outputs": [],
   "source": [
    "# Step 2: Transform null values to 0\n",
    "merged_hotel_data_moscow['rating_reviewcount'].fillna('NULL', inplace=True)"
   ]
  },
  {
   "cell_type": "code",
   "execution_count": 11,
   "metadata": {
    "tags": []
   },
   "outputs": [
    {
     "name": "stdout",
     "output_type": "stream",
     "text": [
      "0\n"
     ]
    }
   ],
   "source": [
    "# Optionally, verify the transformation\n",
    "print(merged_hotel_data_moscow['rating_reviewcount'].isnull().sum())  # Should output 0"
   ]
  },
  {
   "cell_type": "code",
   "execution_count": 12,
   "metadata": {
    "tags": []
   },
   "outputs": [
    {
     "name": "stdout",
     "output_type": "stream",
     "text": [
      "Number of rows with 'rating_reviewcount' as 'NULL': 0\n"
     ]
    }
   ],
   "source": [
    "# Drop rows where 'rating_reviewcount' is 'NULL'\n",
    "merged_hotel_data_moscow = merged_hotel_data_moscow[merged_hotel_data_moscow['rating_reviewcount'] != 'NULL']\n",
    "\n",
    "# Optionally, verify the operation\n",
    "print(f\"Number of rows with 'rating_reviewcount' as 'NULL': {len(merged_hotel_data_moscow[merged_hotel_data_moscow['rating_reviewcount'] == 'NULL'])}\")"
   ]
  },
  {
   "cell_type": "markdown",
   "metadata": {},
   "source": [
    "## Create `highly_rated` column"
   ]
  },
  {
   "cell_type": "code",
   "execution_count": 13,
   "metadata": {
    "tags": []
   },
   "outputs": [
    {
     "data": {
      "text/html": [
       "<div>\n",
       "<style scoped>\n",
       "    .dataframe tbody tr th:only-of-type {\n",
       "        vertical-align: middle;\n",
       "    }\n",
       "\n",
       "    .dataframe tbody tr th {\n",
       "        vertical-align: top;\n",
       "    }\n",
       "\n",
       "    .dataframe thead th {\n",
       "        text-align: right;\n",
       "    }\n",
       "</style>\n",
       "<table border=\"1\" class=\"dataframe\">\n",
       "  <thead>\n",
       "    <tr style=\"text-align: right;\">\n",
       "      <th></th>\n",
       "      <th>hotel_id</th>\n",
       "      <th>price</th>\n",
       "      <th>offer</th>\n",
       "      <th>offer_cat</th>\n",
       "      <th>year</th>\n",
       "      <th>month</th>\n",
       "      <th>weekend</th>\n",
       "      <th>holiday</th>\n",
       "      <th>nnights</th>\n",
       "      <th>scarce_room</th>\n",
       "      <th>...</th>\n",
       "      <th>city_actual</th>\n",
       "      <th>rating_reviewcount</th>\n",
       "      <th>center1label</th>\n",
       "      <th>center2label</th>\n",
       "      <th>neighbourhood</th>\n",
       "      <th>ratingta</th>\n",
       "      <th>ratingta_count</th>\n",
       "      <th>distance_alter</th>\n",
       "      <th>accommodation_type</th>\n",
       "      <th>highly_rated</th>\n",
       "    </tr>\n",
       "  </thead>\n",
       "  <tbody>\n",
       "    <tr>\n",
       "      <th>77578</th>\n",
       "      <td>10947</td>\n",
       "      <td>59</td>\n",
       "      <td>1</td>\n",
       "      <td>15-50% offer</td>\n",
       "      <td>2017</td>\n",
       "      <td>12</td>\n",
       "      <td>0</td>\n",
       "      <td>1</td>\n",
       "      <td>1</td>\n",
       "      <td>0</td>\n",
       "      <td>...</td>\n",
       "      <td>Moscow</td>\n",
       "      <td>240.0</td>\n",
       "      <td>City centre</td>\n",
       "      <td>Solntsevo Exhibition Hall</td>\n",
       "      <td>Alexeevsky</td>\n",
       "      <td>3.0</td>\n",
       "      <td>2351.0</td>\n",
       "      <td>15.0</td>\n",
       "      <td>Hotel</td>\n",
       "      <td>0</td>\n",
       "    </tr>\n",
       "    <tr>\n",
       "      <th>77581</th>\n",
       "      <td>10947</td>\n",
       "      <td>231</td>\n",
       "      <td>1</td>\n",
       "      <td>15-50% offer</td>\n",
       "      <td>2017</td>\n",
       "      <td>12</td>\n",
       "      <td>0</td>\n",
       "      <td>1</td>\n",
       "      <td>4</td>\n",
       "      <td>0</td>\n",
       "      <td>...</td>\n",
       "      <td>Moscow</td>\n",
       "      <td>240.0</td>\n",
       "      <td>City centre</td>\n",
       "      <td>Solntsevo Exhibition Hall</td>\n",
       "      <td>Alexeevsky</td>\n",
       "      <td>3.0</td>\n",
       "      <td>2351.0</td>\n",
       "      <td>15.0</td>\n",
       "      <td>Hotel</td>\n",
       "      <td>0</td>\n",
       "    </tr>\n",
       "    <tr>\n",
       "      <th>77590</th>\n",
       "      <td>10948</td>\n",
       "      <td>43</td>\n",
       "      <td>1</td>\n",
       "      <td>15-50% offer</td>\n",
       "      <td>2017</td>\n",
       "      <td>12</td>\n",
       "      <td>0</td>\n",
       "      <td>1</td>\n",
       "      <td>1</td>\n",
       "      <td>0</td>\n",
       "      <td>...</td>\n",
       "      <td>Moscow</td>\n",
       "      <td>19.0</td>\n",
       "      <td>City centre</td>\n",
       "      <td>Solntsevo Exhibition Hall</td>\n",
       "      <td>Alexeevsky</td>\n",
       "      <td>4.0</td>\n",
       "      <td>34.0</td>\n",
       "      <td>15.0</td>\n",
       "      <td>Hotel</td>\n",
       "      <td>0</td>\n",
       "    </tr>\n",
       "    <tr>\n",
       "      <th>77593</th>\n",
       "      <td>10948</td>\n",
       "      <td>168</td>\n",
       "      <td>1</td>\n",
       "      <td>15-50% offer</td>\n",
       "      <td>2017</td>\n",
       "      <td>12</td>\n",
       "      <td>0</td>\n",
       "      <td>1</td>\n",
       "      <td>4</td>\n",
       "      <td>0</td>\n",
       "      <td>...</td>\n",
       "      <td>Moscow</td>\n",
       "      <td>19.0</td>\n",
       "      <td>City centre</td>\n",
       "      <td>Solntsevo Exhibition Hall</td>\n",
       "      <td>Alexeevsky</td>\n",
       "      <td>4.0</td>\n",
       "      <td>34.0</td>\n",
       "      <td>15.0</td>\n",
       "      <td>Hotel</td>\n",
       "      <td>0</td>\n",
       "    </tr>\n",
       "    <tr>\n",
       "      <th>77598</th>\n",
       "      <td>10949</td>\n",
       "      <td>81</td>\n",
       "      <td>1</td>\n",
       "      <td>15-50% offer</td>\n",
       "      <td>2017</td>\n",
       "      <td>12</td>\n",
       "      <td>0</td>\n",
       "      <td>1</td>\n",
       "      <td>1</td>\n",
       "      <td>0</td>\n",
       "      <td>...</td>\n",
       "      <td>Moscow</td>\n",
       "      <td>31.0</td>\n",
       "      <td>City centre</td>\n",
       "      <td>Solntsevo Exhibition Hall</td>\n",
       "      <td>Alexeevsky</td>\n",
       "      <td>4.0</td>\n",
       "      <td>90.0</td>\n",
       "      <td>15.0</td>\n",
       "      <td>Hotel</td>\n",
       "      <td>0</td>\n",
       "    </tr>\n",
       "  </tbody>\n",
       "</table>\n",
       "<p>5 rows × 25 columns</p>\n",
       "</div>"
      ],
      "text/plain": [
       "       hotel_id  price  offer     offer_cat  year  month  weekend  holiday  \\\n",
       "77578     10947     59      1  15-50% offer  2017     12        0        1   \n",
       "77581     10947    231      1  15-50% offer  2017     12        0        1   \n",
       "77590     10948     43      1  15-50% offer  2017     12        0        1   \n",
       "77593     10948    168      1  15-50% offer  2017     12        0        1   \n",
       "77598     10949     81      1  15-50% offer  2017     12        0        1   \n",
       "\n",
       "       nnights  scarce_room  ... city_actual  rating_reviewcount  \\\n",
       "77578        1            0  ...      Moscow               240.0   \n",
       "77581        4            0  ...      Moscow               240.0   \n",
       "77590        1            0  ...      Moscow                19.0   \n",
       "77593        4            0  ...      Moscow                19.0   \n",
       "77598        1            0  ...      Moscow                31.0   \n",
       "\n",
       "       center1label               center2label neighbourhood ratingta  \\\n",
       "77578   City centre  Solntsevo Exhibition Hall    Alexeevsky      3.0   \n",
       "77581   City centre  Solntsevo Exhibition Hall    Alexeevsky      3.0   \n",
       "77590   City centre  Solntsevo Exhibition Hall    Alexeevsky      4.0   \n",
       "77593   City centre  Solntsevo Exhibition Hall    Alexeevsky      4.0   \n",
       "77598   City centre  Solntsevo Exhibition Hall    Alexeevsky      4.0   \n",
       "\n",
       "       ratingta_count distance_alter accommodation_type highly_rated  \n",
       "77578          2351.0           15.0              Hotel            0  \n",
       "77581          2351.0           15.0              Hotel            0  \n",
       "77590            34.0           15.0              Hotel            0  \n",
       "77593            34.0           15.0              Hotel            0  \n",
       "77598            90.0           15.0              Hotel            0  \n",
       "\n",
       "[5 rows x 25 columns]"
      ]
     },
     "execution_count": 13,
     "metadata": {},
     "output_type": "execute_result"
    }
   ],
   "source": [
    "# new column 'highly_rated'\n",
    "# Set to 1 if 'rating' is greater than or equal to 4, and 0 otherwise\n",
    "merged_hotel_data_moscow['highly_rated'] = merged_hotel_data_moscow['rating'].apply(lambda x: 1 if x >= 4 else 0)\n",
    "merged_hotel_data_moscow.head()"
   ]
  },
  {
   "cell_type": "markdown",
   "metadata": {},
   "source": [
    "# 1.2: Basic Attributes"
   ]
  },
  {
   "cell_type": "code",
   "execution_count": 14,
   "metadata": {
    "tags": []
   },
   "outputs": [
    {
     "data": {
      "text/html": [
       "<div>\n",
       "<style scoped>\n",
       "    .dataframe tbody tr th:only-of-type {\n",
       "        vertical-align: middle;\n",
       "    }\n",
       "\n",
       "    .dataframe tbody tr th {\n",
       "        vertical-align: top;\n",
       "    }\n",
       "\n",
       "    .dataframe thead th {\n",
       "        text-align: right;\n",
       "    }\n",
       "</style>\n",
       "<table border=\"1\" class=\"dataframe\">\n",
       "  <thead>\n",
       "    <tr style=\"text-align: right;\">\n",
       "      <th></th>\n",
       "      <th>stars</th>\n",
       "      <th>distance</th>\n",
       "      <th>price</th>\n",
       "      <th>highly_rated</th>\n",
       "    </tr>\n",
       "  </thead>\n",
       "  <tbody>\n",
       "    <tr>\n",
       "      <th>count</th>\n",
       "      <td>430.00</td>\n",
       "      <td>430.00</td>\n",
       "      <td>430.00</td>\n",
       "      <td>430.00</td>\n",
       "    </tr>\n",
       "    <tr>\n",
       "      <th>mean</th>\n",
       "      <td>3.32</td>\n",
       "      <td>3.60</td>\n",
       "      <td>173.27</td>\n",
       "      <td>0.67</td>\n",
       "    </tr>\n",
       "    <tr>\n",
       "      <th>std</th>\n",
       "      <td>0.83</td>\n",
       "      <td>3.51</td>\n",
       "      <td>126.07</td>\n",
       "      <td>0.47</td>\n",
       "    </tr>\n",
       "    <tr>\n",
       "      <th>min</th>\n",
       "      <td>1.00</td>\n",
       "      <td>0.00</td>\n",
       "      <td>21.00</td>\n",
       "      <td>0.00</td>\n",
       "    </tr>\n",
       "    <tr>\n",
       "      <th>25%</th>\n",
       "      <td>3.00</td>\n",
       "      <td>1.30</td>\n",
       "      <td>67.00</td>\n",
       "      <td>0.00</td>\n",
       "    </tr>\n",
       "    <tr>\n",
       "      <th>50%</th>\n",
       "      <td>3.00</td>\n",
       "      <td>2.20</td>\n",
       "      <td>127.50</td>\n",
       "      <td>1.00</td>\n",
       "    </tr>\n",
       "    <tr>\n",
       "      <th>75%</th>\n",
       "      <td>4.00</td>\n",
       "      <td>4.70</td>\n",
       "      <td>254.75</td>\n",
       "      <td>1.00</td>\n",
       "    </tr>\n",
       "    <tr>\n",
       "      <th>max</th>\n",
       "      <td>5.00</td>\n",
       "      <td>17.00</td>\n",
       "      <td>495.00</td>\n",
       "      <td>1.00</td>\n",
       "    </tr>\n",
       "  </tbody>\n",
       "</table>\n",
       "</div>"
      ],
      "text/plain": [
       "        stars  distance   price  highly_rated\n",
       "count  430.00    430.00  430.00        430.00\n",
       "mean     3.32      3.60  173.27          0.67\n",
       "std      0.83      3.51  126.07          0.47\n",
       "min      1.00      0.00   21.00          0.00\n",
       "25%      3.00      1.30   67.00          0.00\n",
       "50%      3.00      2.20  127.50          1.00\n",
       "75%      4.00      4.70  254.75          1.00\n",
       "max      5.00     17.00  495.00          1.00"
      ]
     },
     "execution_count": 14,
     "metadata": {},
     "output_type": "execute_result"
    }
   ],
   "source": [
    "merged_hotel_data_moscow[[\"stars\",\"distance\",\"price\",\"highly_rated\"]].describe().round(2)"
   ]
  },
  {
   "cell_type": "markdown",
   "metadata": {},
   "source": [
    "## Basic OLS Regression"
   ]
  },
  {
   "cell_type": "code",
   "execution_count": 15,
   "metadata": {
    "tags": []
   },
   "outputs": [
    {
     "name": "stdout",
     "output_type": "stream",
     "text": [
      "                            OLS Regression Results                            \n",
      "==============================================================================\n",
      "Dep. Variable:           highly_rated   R-squared:                       0.127\n",
      "Model:                            OLS   Adj. R-squared:                  0.121\n",
      "Method:                 Least Squares   F-statistic:                     20.73\n",
      "Date:                Wed, 06 Dec 2023   Prob (F-statistic):           1.48e-12\n",
      "Time:                        14:34:04   Log-Likelihood:                -254.90\n",
      "No. Observations:                 430   AIC:                             517.8\n",
      "Df Residuals:                     426   BIC:                             534.0\n",
      "Df Model:                           3                                         \n",
      "Covariance Type:            nonrobust                                         \n",
      "==============================================================================\n",
      "                 coef    std err          t      P>|t|      [0.025      0.975]\n",
      "------------------------------------------------------------------------------\n",
      "const          0.0008      0.091      0.008      0.993      -0.177       0.179\n",
      "price          0.0004      0.000      2.448      0.015    8.61e-05       0.001\n",
      "stars          0.1674      0.027      6.249      0.000       0.115       0.220\n",
      "distance       0.0116      0.006      1.902      0.058      -0.000       0.024\n",
      "==============================================================================\n",
      "Omnibus:                      228.529   Durbin-Watson:                   1.045\n",
      "Prob(Omnibus):                  0.000   Jarque-Bera (JB):               46.567\n",
      "Skew:                          -0.557   Prob(JB):                     7.73e-11\n",
      "Kurtosis:                       1.834   Cond. No.                         946.\n",
      "==============================================================================\n",
      "\n",
      "Notes:\n",
      "[1] Standard Errors assume that the covariance matrix of the errors is correctly specified.\n"
     ]
    }
   ],
   "source": [
    "# Assuming 'merged_hotel_data' is your DataFrame\n",
    "# Selecting some potential independent variables (adjust as needed)\n",
    "X = merged_hotel_data_moscow[['price', 'stars', 'distance']]  # Example features\n",
    "y = merged_hotel_data_moscow['highly_rated']  # Dependent variable\n",
    "\n",
    "# Adding a constant to the model (intercept)\n",
    "X = sm.add_constant(X)\n",
    "\n",
    "# Building the OLS model\n",
    "model = sm.OLS(y, X).fit()\n",
    "\n",
    "# Printing the summary of the model\n",
    "print(model.summary())\n"
   ]
  },
  {
   "cell_type": "markdown",
   "metadata": {},
   "source": [
    "### Basic OSL Interpretation\n",
    "In this regression model, price, stars, and distance are tested for their potential correlations with the highly_rated variable. \n",
    "\n",
    "The `price` variable has a positive coefficient and a statistically significant p-value of 0.015. This suggests that the data provides evidence in support of the claim that an increase in price correlates with an increase in the likelihood of a hotel being classified as highly-rated. \n",
    "\n",
    "The `stars` variable has a positive coefficient and a statistically significant p-value below 0.01. This suggests that the data provides evidence in support of the claim that an increase in the number of stars a hotel has correlates with an increase in the liklihood of a hotel being classified as highly-rated. \n",
    "\n",
    "The `distance` variable has a positive coefficient, but does not have a statistically significant p-value below the 5% threshold. This suggests that the data does not provide eveidence in support of the claim that distance correlates with the `highly-rated` variable. \n",
    "\n",
    "The R-Squared of 12.7% suggests that this model is not the best fit for the `highly_rated` variable."
   ]
  },
  {
   "cell_type": "markdown",
   "metadata": {},
   "source": [
    "# Part 2\n",
    "\n",
    "### **Estimate with distance and stars as explanatory variables**:\n",
    "- linear probability models\n",
    "- logit models\n",
    "- probit models\n",
    "\n",
    "*You may add other variables if you wish*.\n",
    "\n",
    "### **Compare**:\n",
    "- Coefficients\n",
    "- Marginal differences\n",
    "- Predicted probabilities\n",
    "\n",
    "Discuss your results!"
   ]
  },
  {
   "cell_type": "markdown",
   "metadata": {},
   "source": [
    "## Linear Probability Models"
   ]
  },
  {
   "cell_type": "code",
   "execution_count": 16,
   "metadata": {
    "tags": []
   },
   "outputs": [],
   "source": [
    "lpm1 = smf.ols(\n",
    "    \"highly_rated ~ np.log(price) + stars + distance\",\n",
    "    data = merged_hotel_data_moscow,\n",
    ").fit(covtype=\"HC1\")"
   ]
  },
  {
   "cell_type": "code",
   "execution_count": 17,
   "metadata": {
    "tags": []
   },
   "outputs": [
    {
     "data": {
      "text/html": [
       "<table style=\"text-align:center\"><tr><td colspan=\"2\" style=\"border-bottom: 1px solid black\"></td></tr>\n",
       "<tr><td style=\"text-align:left\"></td><td colspan=\"1\"><em>Dependent variable: highly_rated</em></td></tr><tr><td style=\"text-align:left\"></td><tr><td style=\"text-align:left\"></td><td>(1)</td></tr>\n",
       "<tr><td colspan=\"2\" style=\"border-bottom: 1px solid black\"></td></tr>\n",
       "\n",
       "<tr><td style=\"text-align:left\">lnPrice</td><td>0.077<sup>***</sup></td></tr>\n",
       "<tr><td style=\"text-align:left\"></td><td>(0.028)</td></tr>\n",
       "<tr><td style=\"text-align:left\">stars</td><td>0.164<sup>***</sup></td></tr>\n",
       "<tr><td style=\"text-align:left\"></td><td>(0.027)</td></tr>\n",
       "<tr><td style=\"text-align:left\">distance</td><td>0.012<sup>*</sup></td></tr>\n",
       "<tr><td style=\"text-align:left\"></td><td>(0.006)</td></tr>\n",
       "<tr><td style=\"text-align:left\">Constant</td><td>-0.286<sup>**</sup></td></tr>\n",
       "<tr><td style=\"text-align:left\"></td><td>(0.143)</td></tr>\n",
       "\n",
       "<tr><td style=\"text-align: left\">Offer indicators</td><td>Yes</td></tr><td colspan=\"2\" style=\"border-bottom: 1px solid black\"></td></tr>\n",
       "<tr><td style=\"text-align: left\">Observations</td><td>430</td></tr><tr><td style=\"text-align: left\">R<sup>2</sup></td><td>0.130</td></tr><tr><td style=\"text-align: left\">Adjusted R<sup>2</sup></td><td>0.124</td></tr><tr><td style=\"text-align: left\">Residual Std. Error</td><td>0.439 (df=426)</td></tr><tr><td style=\"text-align: left\">F Statistic</td><td>21.278<sup>***</sup> (df=3; 426)</td></tr>\n",
       "<tr><td colspan=\"2\" style=\"border-bottom: 1px solid black\"></td></tr><tr><td style=\"text-align: left\">Note:</td><td colspan=\"1\" style=\"text-align: right\"><sup>*</sup>p&lt;0.1; <sup>**</sup>p&lt;0.05; <sup>***</sup>p&lt;0.01</td></tr></table>"
      ],
      "text/plain": [
       "<stargazer.stargazer.Stargazer at 0x23ab1e5c0d0>"
      ]
     },
     "execution_count": 17,
     "metadata": {},
     "output_type": "execute_result"
    }
   ],
   "source": [
    "stargazer = Stargazer([lpm1])\n",
    "stargazer.covariate_order(\n",
    "    [\n",
    "        \"np.log(price)\",\n",
    "        \"stars\",\n",
    "        \"distance\",\n",
    "        \"Intercept\"\n",
    "    ]\n",
    ")\n",
    "stargazer.rename_covariates({\"Intercept\": \"Constant\",\n",
    "                             \"np.log(price)\" : \"lnPrice\"})\n",
    "stargazer.add_line(\"Offer indicators\", [\"Yes\"])\n",
    "stargazer\n"
   ]
  },
  {
   "cell_type": "markdown",
   "metadata": {},
   "source": [
    "### LPM Interpretation\n",
    "\n",
    "The `lnprice` variable is statistically significant at the 5% threshold, and has a positive coefficient. This suggests that an increase in `lnprice` could reflect on an increase in the probability a hotel is listed as highly rated; however, with such a small coefficient, this suggests that price changes have a small influence on the probability of a hotel being listed as highly rated. \n",
    "\n",
    "The `stars` variable is statistically significant at the 1% threshold, and has a positive coefficient. This suggests that an increase in the number of `stars` could reflect on  an increase in the probability a hotel is listed as highly rated.\n",
    "\n",
    "The `distance` variable is statistically significant at the 10% threshold, which is too high for this research project. So, this will be interpretaed as not statistically significant. This suggests that `distance` is not a good measure of predicting the probability of if a hotel will be highly rated or not. \n",
    "\n",
    "With an R-squared of 12.7%, this suggests that this model has predictive capabilities, but there is a chance that there are other variables that influence the probability of a hotel being highly rated or not. "
   ]
  },
  {
   "cell_type": "code",
   "execution_count": 18,
   "metadata": {
    "tags": []
   },
   "outputs": [
    {
     "data": {
      "text/plain": [
       "count    430.0000\n",
       "mean       0.6744\n",
       "std        0.1694\n",
       "min        0.1574\n",
       "25%        0.5546\n",
       "50%        0.6655\n",
       "75%        0.7964\n",
       "max        1.1897\n",
       "Name: pred_lpm, dtype: float64"
      ]
     },
     "execution_count": 18,
     "metadata": {},
     "output_type": "execute_result"
    }
   ],
   "source": [
    "merged_hotel_data_moscow[\"pred_lpm\"] = lpm1.predict()\n",
    "merged_hotel_data_moscow[\"pred_lpm\"].describe().round(4)"
   ]
  },
  {
   "cell_type": "code",
   "execution_count": 19,
   "metadata": {
    "tags": []
   },
   "outputs": [
    {
     "name": "stderr",
     "output_type": "stream",
     "text": [
      "C:\\Users\\iandr\\anaconda3\\Lib\\site-packages\\plotnine\\layer.py:284: PlotnineWarning: stat_bin : Removed 15 rows containing non-finite values.\n",
      "C:\\Users\\iandr\\anaconda3\\Lib\\site-packages\\plotnine\\layer.py:364: PlotnineWarning: geom_histogram : Removed 2 rows containing missing values.\n"
     ]
    },
    {
     "data": {
      "image/png": "[encoded data removed]",
      "text/plain": [
       "<Figure size 640x480 with 1 Axes>"
      ]
     },
     "metadata": {
      "image/png": {
       "height": 480,
       "width": 640
      }
     },
     "output_type": "display_data"
    },
    {
     "data": {
      "text/plain": [
       "<Figure Size: (640 x 480)>"
      ]
     },
     "execution_count": 19,
     "metadata": {},
     "output_type": "execute_result"
    }
   ],
   "source": [
    "g1 = (\n",
    "    ggplot(merged_hotel_data_moscow, aes(x=\"pred_lpm\"))\n",
    "    + geom_histogram(\n",
    "        aes(y=\"stat(count)/sum(stat(count))\"),\n",
    "        binwidth=0.02,\n",
    "        center=0.65,\n",
    "        color=\"white\",\n",
    "        fill=\"darkblue\",\n",
    "        closed=\"right\",\n",
    "    )\n",
    "    + labs(x=\"Predicted probability of a highly rated hotel\", y=\"Percent\")\n",
    "    + scale_y_continuous(\n",
    "        expand=[0.00, 0.0],\n",
    "        limits=[0, 0.07],\n",
    "        breaks=np.arange(0, 0.07, 0.01),\n",
    "        labels=percent_format(),\n",
    "    )\n",
    "    + scale_x_continuous(expand=[0.1, 0.01], limits=[0, 1], breaks=np.arange(0, 1, 0.2))\n",
    "    + theme_bw()\n",
    ")\n",
    "g1\n"
   ]
  },
  {
   "cell_type": "markdown",
   "metadata": {},
   "source": [
    "### Histogram interpretation\n",
    "\n",
    "This histogram seems to be normally distributed, with a mean around the 0.6-0.7 range. This suggests that there is a 60-70% probability of predicting if a hotel is highly rated or not. As the range of this histogram is between around 0.2 and 0.9, this model could be split into two sets: hotels that have a high probability of being predicted for being highly rated, and hotels that have a low probability of being predicted for being highly rated. "
   ]
  },
  {
   "cell_type": "code",
   "execution_count": 20,
   "metadata": {
    "tags": []
   },
   "outputs": [
    {
     "data": {
      "text/html": [
       "<div>\n",
       "<style scoped>\n",
       "    .dataframe tbody tr th:only-of-type {\n",
       "        vertical-align: middle;\n",
       "    }\n",
       "\n",
       "    .dataframe tbody tr th {\n",
       "        vertical-align: top;\n",
       "    }\n",
       "\n",
       "    .dataframe thead th {\n",
       "        text-align: right;\n",
       "    }\n",
       "</style>\n",
       "<table border=\"1\" class=\"dataframe\">\n",
       "  <thead>\n",
       "    <tr style=\"text-align: right;\">\n",
       "      <th></th>\n",
       "      <th>price</th>\n",
       "      <th>stars</th>\n",
       "      <th>distance</th>\n",
       "    </tr>\n",
       "  </thead>\n",
       "  <tbody>\n",
       "    <tr>\n",
       "      <th>count</th>\n",
       "      <td>5.0</td>\n",
       "      <td>5.0</td>\n",
       "      <td>5.0</td>\n",
       "    </tr>\n",
       "    <tr>\n",
       "      <th>mean</th>\n",
       "      <td>67.0</td>\n",
       "      <td>1.0</td>\n",
       "      <td>2.4</td>\n",
       "    </tr>\n",
       "    <tr>\n",
       "      <th>std</th>\n",
       "      <td>40.8</td>\n",
       "      <td>0.0</td>\n",
       "      <td>2.5</td>\n",
       "    </tr>\n",
       "    <tr>\n",
       "      <th>min</th>\n",
       "      <td>35.0</td>\n",
       "      <td>1.0</td>\n",
       "      <td>0.5</td>\n",
       "    </tr>\n",
       "    <tr>\n",
       "      <th>25%</th>\n",
       "      <td>49.0</td>\n",
       "      <td>1.0</td>\n",
       "      <td>0.5</td>\n",
       "    </tr>\n",
       "    <tr>\n",
       "      <th>50%</th>\n",
       "      <td>51.0</td>\n",
       "      <td>1.0</td>\n",
       "      <td>1.0</td>\n",
       "    </tr>\n",
       "    <tr>\n",
       "      <th>75%</th>\n",
       "      <td>62.0</td>\n",
       "      <td>1.0</td>\n",
       "      <td>3.6</td>\n",
       "    </tr>\n",
       "    <tr>\n",
       "      <th>max</th>\n",
       "      <td>138.0</td>\n",
       "      <td>1.0</td>\n",
       "      <td>6.3</td>\n",
       "    </tr>\n",
       "  </tbody>\n",
       "</table>\n",
       "</div>"
      ],
      "text/plain": [
       "       price  stars  distance\n",
       "count    5.0    5.0       5.0\n",
       "mean    67.0    1.0       2.4\n",
       "std     40.8    0.0       2.5\n",
       "min     35.0    1.0       0.5\n",
       "25%     49.0    1.0       0.5\n",
       "50%     51.0    1.0       1.0\n",
       "75%     62.0    1.0       3.6\n",
       "max    138.0    1.0       6.3"
      ]
     },
     "execution_count": 20,
     "metadata": {},
     "output_type": "execute_result"
    }
   ],
   "source": [
    "cuts = 100\n",
    "merged_hotel_data_moscow[\"q100_pred_lpm\"] = pd.qcut(merged_hotel_data_moscow[\"pred_lpm\"], q=cuts, labels=range(1, cuts + 1))\n",
    "\n",
    "merged_hotel_data_moscow.loc[\n",
    "    merged_hotel_data_moscow[\"q100_pred_lpm\"] == 1,\n",
    "    [\n",
    "        \"price\",\n",
    "        \"stars\",\n",
    "        \"distance\"\n",
    "    ],\n",
    "].describe().round(1)\n",
    "\n",
    "# Bottom 1%"
   ]
  },
  {
   "cell_type": "code",
   "execution_count": 21,
   "metadata": {
    "tags": []
   },
   "outputs": [
    {
     "data": {
      "text/html": [
       "<div>\n",
       "<style scoped>\n",
       "    .dataframe tbody tr th:only-of-type {\n",
       "        vertical-align: middle;\n",
       "    }\n",
       "\n",
       "    .dataframe tbody tr th {\n",
       "        vertical-align: top;\n",
       "    }\n",
       "\n",
       "    .dataframe thead th {\n",
       "        text-align: right;\n",
       "    }\n",
       "</style>\n",
       "<table border=\"1\" class=\"dataframe\">\n",
       "  <thead>\n",
       "    <tr style=\"text-align: right;\">\n",
       "      <th></th>\n",
       "      <th>price</th>\n",
       "      <th>stars</th>\n",
       "      <th>distance</th>\n",
       "    </tr>\n",
       "  </thead>\n",
       "  <tbody>\n",
       "    <tr>\n",
       "      <th>count</th>\n",
       "      <td>5.0</td>\n",
       "      <td>5.0</td>\n",
       "      <td>5.0</td>\n",
       "    </tr>\n",
       "    <tr>\n",
       "      <th>mean</th>\n",
       "      <td>384.8</td>\n",
       "      <td>4.8</td>\n",
       "      <td>10.4</td>\n",
       "    </tr>\n",
       "    <tr>\n",
       "      <th>std</th>\n",
       "      <td>150.8</td>\n",
       "      <td>0.4</td>\n",
       "      <td>7.7</td>\n",
       "    </tr>\n",
       "    <tr>\n",
       "      <th>min</th>\n",
       "      <td>118.0</td>\n",
       "      <td>4.0</td>\n",
       "      <td>1.6</td>\n",
       "    </tr>\n",
       "    <tr>\n",
       "      <th>25%</th>\n",
       "      <td>426.0</td>\n",
       "      <td>5.0</td>\n",
       "      <td>2.3</td>\n",
       "    </tr>\n",
       "    <tr>\n",
       "      <th>50%</th>\n",
       "      <td>446.0</td>\n",
       "      <td>5.0</td>\n",
       "      <td>16.0</td>\n",
       "    </tr>\n",
       "    <tr>\n",
       "      <th>75%</th>\n",
       "      <td>447.0</td>\n",
       "      <td>5.0</td>\n",
       "      <td>16.0</td>\n",
       "    </tr>\n",
       "    <tr>\n",
       "      <th>max</th>\n",
       "      <td>487.0</td>\n",
       "      <td>5.0</td>\n",
       "      <td>16.0</td>\n",
       "    </tr>\n",
       "  </tbody>\n",
       "</table>\n",
       "</div>"
      ],
      "text/plain": [
       "       price  stars  distance\n",
       "count    5.0    5.0       5.0\n",
       "mean   384.8    4.8      10.4\n",
       "std    150.8    0.4       7.7\n",
       "min    118.0    4.0       1.6\n",
       "25%    426.0    5.0       2.3\n",
       "50%    446.0    5.0      16.0\n",
       "75%    447.0    5.0      16.0\n",
       "max    487.0    5.0      16.0"
      ]
     },
     "execution_count": 21,
     "metadata": {},
     "output_type": "execute_result"
    }
   ],
   "source": [
    "merged_hotel_data_moscow.loc[\n",
    "    merged_hotel_data_moscow[\"q100_pred_lpm\"] == 100,\n",
    "    [\n",
    "        \"price\",\n",
    "        \"stars\",\n",
    "        \"distance\"\n",
    "    ],\n",
    "].describe().round(1)\n",
    "\n",
    "# Top 1%"
   ]
  },
  {
   "cell_type": "markdown",
   "metadata": {},
   "source": [
    "### Interpretation\n",
    "\n",
    "Hotels in the bottom 1% of having the liklihood of being highly rated seem to have very low prices overall, especailly with the maximum price being 138. This is close to the minimum of the top 1% being 118. Additionally, the mean is very low compared to the mean of the top 1%. This suggests that low priced hotels are not likely to be highly rated, while hotels with higher prices have a high likelihood of being predicted as being highly rated. \n",
    "\n",
    "The stars are all 1, suggesting that hotels with low star counts are not likely to be highly rated. Compared to the top 1%, which only has 4 and 5 stars. This would suggests that hotels with high star counts are likely to be predicted as being highly rated. \n",
    "\n",
    "The distances for the bottom 1% seem to be much lower than the distances for the top 1%. The minimum for the top 1% overlaps with the mean of the bottom 1% distance. This suggests that it may be difficult to draw conclusions on the influence of distances on the probability of a hotel being highly rated or not. "
   ]
  },
  {
   "cell_type": "markdown",
   "metadata": {},
   "source": [
    "## Logit and Probit Models"
   ]
  },
  {
   "cell_type": "code",
   "execution_count": 22,
   "metadata": {
    "tags": []
   },
   "outputs": [
    {
     "name": "stderr",
     "output_type": "stream",
     "text": [
      "C:\\Users\\iandr\\anaconda3\\Lib\\site-packages\\statsmodels\\genmod\\families\\links.py:13: FutureWarning: The logit link alias is deprecated. Use Logit instead. The logit link alias will be removed after the 0.15.0 release.\n"
     ]
    }
   ],
   "source": [
    "from patsy import dmatrices\n",
    "y, X = dmatrices(\n",
    "    \"highly_rated ~ np.log(price) + stars + distance\",\n",
    "    merged_hotel_data_moscow,\n",
    ")\n",
    "\n",
    "logit = sm.GLM(y, X, family=sm.families.Binomial(link=sm.genmod.families.links.logit()))\n",
    "logit = logit.fit()\n"
   ]
  },
  {
   "cell_type": "code",
   "execution_count": 23,
   "metadata": {
    "tags": []
   },
   "outputs": [
    {
     "data": {
      "text/html": [
       "<table class=\"simpletable\">\n",
       "<caption>Generalized Linear Model Regression Results</caption>\n",
       "<tr>\n",
       "  <th>Dep. Variable:</th>     <td>highly_rated</td>   <th>  No. Observations:  </th>  <td>   430</td> \n",
       "</tr>\n",
       "<tr>\n",
       "  <th>Model:</th>                  <td>GLM</td>       <th>  Df Residuals:      </th>  <td>   426</td> \n",
       "</tr>\n",
       "<tr>\n",
       "  <th>Model Family:</th>        <td>Binomial</td>     <th>  Df Model:          </th>  <td>     3</td> \n",
       "</tr>\n",
       "<tr>\n",
       "  <th>Link Function:</th>         <td>logit</td>      <th>  Scale:             </th> <td>  1.0000</td>\n",
       "</tr>\n",
       "<tr>\n",
       "  <th>Method:</th>                <td>IRLS</td>       <th>  Log-Likelihood:    </th> <td> -241.11</td>\n",
       "</tr>\n",
       "<tr>\n",
       "  <th>Date:</th>            <td>Wed, 06 Dec 2023</td> <th>  Deviance:          </th> <td>  482.22</td>\n",
       "</tr>\n",
       "<tr>\n",
       "  <th>Time:</th>                <td>14:34:15</td>     <th>  Pearson chi2:      </th>  <td>  428.</td> \n",
       "</tr>\n",
       "<tr>\n",
       "  <th>No. Iterations:</th>          <td>4</td>        <th>  Pseudo R-squ. (CS):</th>  <td>0.1311</td> \n",
       "</tr>\n",
       "<tr>\n",
       "  <th>Covariance Type:</th>     <td>nonrobust</td>    <th>                     </th>     <td> </td>   \n",
       "</tr>\n",
       "</table>\n",
       "<table class=\"simpletable\">\n",
       "<tr>\n",
       "        <td></td>           <th>coef</th>     <th>std err</th>      <th>z</th>      <th>P>|z|</th>  <th>[0.025</th>    <th>0.975]</th>  \n",
       "</tr>\n",
       "<tr>\n",
       "  <th>Intercept</th>     <td>   -4.1910</td> <td>    0.790</td> <td>   -5.303</td> <td> 0.000</td> <td>   -5.740</td> <td>   -2.642</td>\n",
       "</tr>\n",
       "<tr>\n",
       "  <th>np.log(price)</th> <td>    0.3865</td> <td>    0.146</td> <td>    2.644</td> <td> 0.008</td> <td>    0.100</td> <td>    0.673</td>\n",
       "</tr>\n",
       "<tr>\n",
       "  <th>stars</th>         <td>    0.8837</td> <td>    0.159</td> <td>    5.548</td> <td> 0.000</td> <td>    0.571</td> <td>    1.196</td>\n",
       "</tr>\n",
       "<tr>\n",
       "  <th>distance</th>      <td>    0.0639</td> <td>    0.036</td> <td>    1.793</td> <td> 0.073</td> <td>   -0.006</td> <td>    0.134</td>\n",
       "</tr>\n",
       "</table>"
      ],
      "text/latex": [
       "\\begin{center}\n",
       "\\begin{tabular}{lclc}\n",
       "\\toprule\n",
       "\\textbf{Dep. Variable:}   &  highly\\_rated   & \\textbf{  No. Observations:  } &      430    \\\\\n",
       "\\textbf{Model:}           &       GLM        & \\textbf{  Df Residuals:      } &      426    \\\\\n",
       "\\textbf{Model Family:}    &     Binomial     & \\textbf{  Df Model:          } &        3    \\\\\n",
       "\\textbf{Link Function:}   &      logit       & \\textbf{  Scale:             } &    1.0000   \\\\\n",
       "\\textbf{Method:}          &       IRLS       & \\textbf{  Log-Likelihood:    } &   -241.11   \\\\\n",
       "\\textbf{Date:}            & Wed, 06 Dec 2023 & \\textbf{  Deviance:          } &    482.22   \\\\\n",
       "\\textbf{Time:}            &     14:34:15     & \\textbf{  Pearson chi2:      } &     428.    \\\\\n",
       "\\textbf{No. Iterations:}  &        4         & \\textbf{  Pseudo R-squ. (CS):} &   0.1311    \\\\\n",
       "\\textbf{Covariance Type:} &    nonrobust     & \\textbf{                     } &             \\\\\n",
       "\\bottomrule\n",
       "\\end{tabular}\n",
       "\\begin{tabular}{lcccccc}\n",
       "                       & \\textbf{coef} & \\textbf{std err} & \\textbf{z} & \\textbf{P$> |$z$|$} & \\textbf{[0.025} & \\textbf{0.975]}  \\\\\n",
       "\\midrule\n",
       "\\textbf{Intercept}     &      -4.1910  &        0.790     &    -5.303  &         0.000        &       -5.740    &       -2.642     \\\\\n",
       "\\textbf{np.log(price)} &       0.3865  &        0.146     &     2.644  &         0.008        &        0.100    &        0.673     \\\\\n",
       "\\textbf{stars}         &       0.8837  &        0.159     &     5.548  &         0.000        &        0.571    &        1.196     \\\\\n",
       "\\textbf{distance}      &       0.0639  &        0.036     &     1.793  &         0.073        &       -0.006    &        0.134     \\\\\n",
       "\\bottomrule\n",
       "\\end{tabular}\n",
       "%\\caption{Generalized Linear Model Regression Results}\n",
       "\\end{center}"
      ],
      "text/plain": [
       "<class 'statsmodels.iolib.summary.Summary'>\n",
       "\"\"\"\n",
       "                 Generalized Linear Model Regression Results                  \n",
       "==============================================================================\n",
       "Dep. Variable:           highly_rated   No. Observations:                  430\n",
       "Model:                            GLM   Df Residuals:                      426\n",
       "Model Family:                Binomial   Df Model:                            3\n",
       "Link Function:                  logit   Scale:                          1.0000\n",
       "Method:                          IRLS   Log-Likelihood:                -241.11\n",
       "Date:                Wed, 06 Dec 2023   Deviance:                       482.22\n",
       "Time:                        14:34:15   Pearson chi2:                     428.\n",
       "No. Iterations:                     4   Pseudo R-squ. (CS):             0.1311\n",
       "Covariance Type:            nonrobust                                         \n",
       "=================================================================================\n",
       "                    coef    std err          z      P>|z|      [0.025      0.975]\n",
       "---------------------------------------------------------------------------------\n",
       "Intercept        -4.1910      0.790     -5.303      0.000      -5.740      -2.642\n",
       "np.log(price)     0.3865      0.146      2.644      0.008       0.100       0.673\n",
       "stars             0.8837      0.159      5.548      0.000       0.571       1.196\n",
       "distance          0.0639      0.036      1.793      0.073      -0.006       0.134\n",
       "=================================================================================\n",
       "\"\"\""
      ]
     },
     "execution_count": 23,
     "metadata": {},
     "output_type": "execute_result"
    }
   ],
   "source": [
    "logit.summary()"
   ]
  },
  {
   "cell_type": "markdown",
   "metadata": {},
   "source": [
    "### GLM Interpretation\n",
    "\n",
    "This GLM model provides further eveidence that stars and prices are significant predictors of a hotel being highly rated. \n",
    "\n",
    "The `log(price)` variable has a positive coefficient with a statistically significant p-value at the 1% threshold. This suggests that `log(price)` has a positive associaition with the odds of a hotel being highly rated. \n",
    "\n",
    "The `stars` variable has a positive coefficient with a statistically significant p-value at the 1% threshold. This suggests that `stars` has a positive associaation with the odds of a hotel being highly rated. \n",
    "\n",
    "The `distance` variable has a positive coefficient, but does not have a statistically significant p-value below the 5% threshold. This suggests that `distance` is not a good predictor of the odds of a hotel being highly rated. \n",
    "\n",
    "The R-Squared of this model is 13.1%, which is quite low. This indicates that there are other variables that may better determine the odds of a hotel being highly rated."
   ]
  },
  {
   "cell_type": "code",
   "execution_count": 24,
   "metadata": {
    "tags": []
   },
   "outputs": [
    {
     "data": {
      "text/plain": [
       "count    430.000000\n",
       "mean       0.674419\n",
       "std        0.172256\n",
       "min        0.129951\n",
       "25%        0.557306\n",
       "50%        0.688376\n",
       "75%        0.820852\n",
       "max        0.973576\n",
       "Name: pred_logit, dtype: float64"
      ]
     },
     "execution_count": 24,
     "metadata": {},
     "output_type": "execute_result"
    }
   ],
   "source": [
    "merged_hotel_data_moscow[\"pred_logit\"] = logit.predict()\n",
    "merged_hotel_data_moscow[\"pred_logit\"].describe()"
   ]
  },
  {
   "cell_type": "code",
   "execution_count": 25,
   "metadata": {
    "tags": []
   },
   "outputs": [
    {
     "name": "stdout",
     "output_type": "stream",
     "text": [
      "Optimization terminated successfully.\n",
      "         Current function value: 0.560721\n",
      "         Iterations 6\n"
     ]
    }
   ],
   "source": [
    "logit = sm.Logit(y, X)\n",
    "logit_result = logit.fit()"
   ]
  },
  {
   "cell_type": "code",
   "execution_count": 26,
   "metadata": {
    "tags": []
   },
   "outputs": [
    {
     "data": {
      "text/html": [
       "<table class=\"simpletable\">\n",
       "<caption>Logit Regression Results</caption>\n",
       "<tr>\n",
       "  <th>Dep. Variable:</th>     <td>highly_rated</td>   <th>  No. Observations:  </th>  <td>   430</td>  \n",
       "</tr>\n",
       "<tr>\n",
       "  <th>Model:</th>                 <td>Logit</td>      <th>  Df Residuals:      </th>  <td>   426</td>  \n",
       "</tr>\n",
       "<tr>\n",
       "  <th>Method:</th>                 <td>MLE</td>       <th>  Df Model:          </th>  <td>     3</td>  \n",
       "</tr>\n",
       "<tr>\n",
       "  <th>Date:</th>            <td>Wed, 06 Dec 2023</td> <th>  Pseudo R-squ.:     </th>  <td>0.1114</td>  \n",
       "</tr>\n",
       "<tr>\n",
       "  <th>Time:</th>                <td>14:34:16</td>     <th>  Log-Likelihood:    </th> <td> -241.11</td> \n",
       "</tr>\n",
       "<tr>\n",
       "  <th>converged:</th>             <td>True</td>       <th>  LL-Null:           </th> <td> -271.33</td> \n",
       "</tr>\n",
       "<tr>\n",
       "  <th>Covariance Type:</th>     <td>nonrobust</td>    <th>  LLR p-value:       </th> <td>4.725e-13</td>\n",
       "</tr>\n",
       "</table>\n",
       "<table class=\"simpletable\">\n",
       "<tr>\n",
       "        <td></td>           <th>coef</th>     <th>std err</th>      <th>z</th>      <th>P>|z|</th>  <th>[0.025</th>    <th>0.975]</th>  \n",
       "</tr>\n",
       "<tr>\n",
       "  <th>Intercept</th>     <td>   -4.1910</td> <td>    0.790</td> <td>   -5.303</td> <td> 0.000</td> <td>   -5.740</td> <td>   -2.642</td>\n",
       "</tr>\n",
       "<tr>\n",
       "  <th>np.log(price)</th> <td>    0.3865</td> <td>    0.146</td> <td>    2.644</td> <td> 0.008</td> <td>    0.100</td> <td>    0.673</td>\n",
       "</tr>\n",
       "<tr>\n",
       "  <th>stars</th>         <td>    0.8837</td> <td>    0.159</td> <td>    5.548</td> <td> 0.000</td> <td>    0.571</td> <td>    1.196</td>\n",
       "</tr>\n",
       "<tr>\n",
       "  <th>distance</th>      <td>    0.0639</td> <td>    0.036</td> <td>    1.793</td> <td> 0.073</td> <td>   -0.006</td> <td>    0.134</td>\n",
       "</tr>\n",
       "</table>"
      ],
      "text/latex": [
       "\\begin{center}\n",
       "\\begin{tabular}{lclc}\n",
       "\\toprule\n",
       "\\textbf{Dep. Variable:}   &  highly\\_rated   & \\textbf{  No. Observations:  } &      430    \\\\\n",
       "\\textbf{Model:}           &      Logit       & \\textbf{  Df Residuals:      } &      426    \\\\\n",
       "\\textbf{Method:}          &       MLE        & \\textbf{  Df Model:          } &        3    \\\\\n",
       "\\textbf{Date:}            & Wed, 06 Dec 2023 & \\textbf{  Pseudo R-squ.:     } &   0.1114    \\\\\n",
       "\\textbf{Time:}            &     14:34:16     & \\textbf{  Log-Likelihood:    } &   -241.11   \\\\\n",
       "\\textbf{converged:}       &       True       & \\textbf{  LL-Null:           } &   -271.33   \\\\\n",
       "\\textbf{Covariance Type:} &    nonrobust     & \\textbf{  LLR p-value:       } & 4.725e-13   \\\\\n",
       "\\bottomrule\n",
       "\\end{tabular}\n",
       "\\begin{tabular}{lcccccc}\n",
       "                       & \\textbf{coef} & \\textbf{std err} & \\textbf{z} & \\textbf{P$> |$z$|$} & \\textbf{[0.025} & \\textbf{0.975]}  \\\\\n",
       "\\midrule\n",
       "\\textbf{Intercept}     &      -4.1910  &        0.790     &    -5.303  &         0.000        &       -5.740    &       -2.642     \\\\\n",
       "\\textbf{np.log(price)} &       0.3865  &        0.146     &     2.644  &         0.008        &        0.100    &        0.673     \\\\\n",
       "\\textbf{stars}         &       0.8837  &        0.159     &     5.548  &         0.000        &        0.571    &        1.196     \\\\\n",
       "\\textbf{distance}      &       0.0639  &        0.036     &     1.793  &         0.073        &       -0.006    &        0.134     \\\\\n",
       "\\bottomrule\n",
       "\\end{tabular}\n",
       "%\\caption{Logit Regression Results}\n",
       "\\end{center}"
      ],
      "text/plain": [
       "<class 'statsmodels.iolib.summary.Summary'>\n",
       "\"\"\"\n",
       "                           Logit Regression Results                           \n",
       "==============================================================================\n",
       "Dep. Variable:           highly_rated   No. Observations:                  430\n",
       "Model:                          Logit   Df Residuals:                      426\n",
       "Method:                           MLE   Df Model:                            3\n",
       "Date:                Wed, 06 Dec 2023   Pseudo R-squ.:                  0.1114\n",
       "Time:                        14:34:16   Log-Likelihood:                -241.11\n",
       "converged:                       True   LL-Null:                       -271.33\n",
       "Covariance Type:            nonrobust   LLR p-value:                 4.725e-13\n",
       "=================================================================================\n",
       "                    coef    std err          z      P>|z|      [0.025      0.975]\n",
       "---------------------------------------------------------------------------------\n",
       "Intercept        -4.1910      0.790     -5.303      0.000      -5.740      -2.642\n",
       "np.log(price)     0.3865      0.146      2.644      0.008       0.100       0.673\n",
       "stars             0.8837      0.159      5.548      0.000       0.571       1.196\n",
       "distance          0.0639      0.036      1.793      0.073      -0.006       0.134\n",
       "=================================================================================\n",
       "\"\"\""
      ]
     },
     "execution_count": 26,
     "metadata": {},
     "output_type": "execute_result"
    }
   ],
   "source": [
    "logit_result.summary()"
   ]
  },
  {
   "cell_type": "markdown",
   "metadata": {},
   "source": [
    "### Logit Regression Results Interpretation\n",
    "\n",
    "Compared to other models in this project, this logit regression furthers the claim that price and stars have a positive associated with the odds of a hotel being highly rated or not. In this model, and increase in price or stars is associated with the odds of a hotel being highly rated. The `distance` variable is still not statistically significant, so the data does not provide eveidence in support of distance having an association with the odds of a hotel being highly rated or not. \n",
    "\n",
    "The R-squared is still quite low, and suggests that there are probably other variables that are associated with a hotel being highly rated and would explain it better. "
   ]
  },
  {
   "cell_type": "code",
   "execution_count": 27,
   "metadata": {
    "tags": []
   },
   "outputs": [
    {
     "data": {
      "text/html": [
       "<table class=\"simpletable\">\n",
       "<caption>Logit Marginal Effects</caption>\n",
       "<tr>\n",
       "  <th>Dep. Variable:</th> <td>highly_rated</td>\n",
       "</tr>\n",
       "<tr>\n",
       "  <th>Method:</th>            <td>dydx</td>    \n",
       "</tr>\n",
       "<tr>\n",
       "  <th>At:</th>               <td>overall</td>  \n",
       "</tr>\n",
       "</table>\n",
       "<table class=\"simpletable\">\n",
       "<tr>\n",
       "        <th></th>           <th>dy/dx</th>    <th>std err</th>      <th>z</th>      <th>P>|z|</th>  <th>[0.025</th>    <th>0.975]</th>  \n",
       "</tr>\n",
       "<tr>\n",
       "  <th>np.log(price)</th> <td>    0.0734</td> <td>    0.027</td> <td>    2.725</td> <td> 0.006</td> <td>    0.021</td> <td>    0.126</td>\n",
       "</tr>\n",
       "<tr>\n",
       "  <th>stars</th>         <td>    0.1679</td> <td>    0.026</td> <td>    6.346</td> <td> 0.000</td> <td>    0.116</td> <td>    0.220</td>\n",
       "</tr>\n",
       "<tr>\n",
       "  <th>distance</th>      <td>    0.0121</td> <td>    0.007</td> <td>    1.816</td> <td> 0.069</td> <td>   -0.001</td> <td>    0.025</td>\n",
       "</tr>\n",
       "</table>"
      ],
      "text/latex": [
       "\\begin{center}\n",
       "\\begin{tabular}{lc}\n",
       "\\toprule\n",
       "\\textbf{Dep. Variable:} & highly\\_rated   \\\\\n",
       "\\textbf{Method:}        &      dydx       \\\\\n",
       "\\textbf{At:}            &    overall      \\\\\n",
       "\\bottomrule\n",
       "\\end{tabular}\n",
       "\\begin{tabular}{ccccccc}\n",
       "      \\textbf{}        & \\textbf{dy/dx} & \\textbf{std err} & \\textbf{z} & \\textbf{P$> |$z$|$} & \\textbf{[0.025} & \\textbf{0.975]}  \\\\\n",
       "\\midrule\n",
       "\\bottomrule\n",
       "\\end{tabular}\n",
       "\\begin{tabular}{lcccccc}\n",
       "\\textbf{np.log(price)} &       0.0734   &        0.027     &     2.725  &         0.006        &        0.021    &        0.126     \\\\\n",
       "\\textbf{stars}         &       0.1679   &        0.026     &     6.346  &         0.000        &        0.116    &        0.220     \\\\\n",
       "\\textbf{distance}      &       0.0121   &        0.007     &     1.816  &         0.069        &       -0.001    &        0.025     \\\\\n",
       "\\bottomrule\n",
       "\\end{tabular}\n",
       "%\\caption{Logit Marginal Effects}\n",
       "\\end{center}"
      ],
      "text/plain": [
       "<class 'statsmodels.iolib.summary.Summary'>\n",
       "\"\"\"\n",
       "        Logit Marginal Effects       \n",
       "=====================================\n",
       "Dep. Variable:           highly_rated\n",
       "Method:                          dydx\n",
       "At:                           overall\n",
       "=================================================================================\n",
       "                   dy/dx    std err          z      P>|z|      [0.025      0.975]\n",
       "---------------------------------------------------------------------------------\n",
       "np.log(price)     0.0734      0.027      2.725      0.006       0.021       0.126\n",
       "stars             0.1679      0.026      6.346      0.000       0.116       0.220\n",
       "distance          0.0121      0.007      1.816      0.069      -0.001       0.025\n",
       "=================================================================================\n",
       "\"\"\""
      ]
     },
     "execution_count": 27,
     "metadata": {},
     "output_type": "execute_result"
    }
   ],
   "source": [
    "logit_margef_results = logit_result.get_margeff()\n",
    "logit_margef_results.summary()"
   ]
  },
  {
   "cell_type": "markdown",
   "metadata": {},
   "source": [
    "### Logit Marginal Effects Interpretation\n",
    "\n",
    "This model allows us to see the marginal changes in the predictor variables. This will help us describe the change in odds of a hotel being highly rated for one unit change in the predictor variables. The dy/dx represents this change.\n",
    "\n",
    "`Log(price)`: a dy/dx of 0.0734 suggests that a 1% increase in price will increase the odds of a hotel being highly rated by 7.34%, ceteris paribus. The p-value is below the 1% threshold, which is statistically significant. \n",
    "\n",
    "`stars`: a dy/dx of 0.1679 suggests that an increase in stars by 1 will increases the odds of a hotel being highly rated by 16.79%, ceteris paribus. The p-value is below the 1% threshold, which is statistically significant. \n",
    "\n",
    "`distance`: a dy/dx of 0.0121 suggests that an increase in one unit of distance will increase the odds of a hotel being highly rated by 1.21%, ceteris paribus. The p-value is above the 5% threshold, which is not statistically significantly. \n",
    "\n",
    "From this information, it seems that `stars` and `log(price)` are the best predictors out of these three variables in predicting the odds of a hotel being highly rated. `Distance` has a much smaller and less certain impact on the odds of a hotel being highly rated. "
   ]
  },
  {
   "cell_type": "code",
   "execution_count": 28,
   "metadata": {
    "tags": []
   },
   "outputs": [
    {
     "name": "stdout",
     "output_type": "stream",
     "text": [
      "Optimization terminated successfully.\n",
      "         Current function value: 0.560633\n",
      "         Iterations 5\n"
     ]
    }
   ],
   "source": [
    "probit = sm.Probit(y, X)\n",
    "probit_result = probit.fit()"
   ]
  },
  {
   "cell_type": "code",
   "execution_count": 29,
   "metadata": {
    "tags": []
   },
   "outputs": [
    {
     "data": {
      "text/html": [
       "<table class=\"simpletable\">\n",
       "<caption>Probit Regression Results</caption>\n",
       "<tr>\n",
       "  <th>Dep. Variable:</th>     <td>highly_rated</td>   <th>  No. Observations:  </th>  <td>   430</td>  \n",
       "</tr>\n",
       "<tr>\n",
       "  <th>Model:</th>                <td>Probit</td>      <th>  Df Residuals:      </th>  <td>   426</td>  \n",
       "</tr>\n",
       "<tr>\n",
       "  <th>Method:</th>                 <td>MLE</td>       <th>  Df Model:          </th>  <td>     3</td>  \n",
       "</tr>\n",
       "<tr>\n",
       "  <th>Date:</th>            <td>Wed, 06 Dec 2023</td> <th>  Pseudo R-squ.:     </th>  <td>0.1115</td>  \n",
       "</tr>\n",
       "<tr>\n",
       "  <th>Time:</th>                <td>14:34:16</td>     <th>  Log-Likelihood:    </th> <td> -241.07</td> \n",
       "</tr>\n",
       "<tr>\n",
       "  <th>converged:</th>             <td>True</td>       <th>  LL-Null:           </th> <td> -271.33</td> \n",
       "</tr>\n",
       "<tr>\n",
       "  <th>Covariance Type:</th>     <td>nonrobust</td>    <th>  LLR p-value:       </th> <td>4.551e-13</td>\n",
       "</tr>\n",
       "</table>\n",
       "<table class=\"simpletable\">\n",
       "<tr>\n",
       "        <td></td>           <th>coef</th>     <th>std err</th>      <th>z</th>      <th>P>|z|</th>  <th>[0.025</th>    <th>0.975]</th>  \n",
       "</tr>\n",
       "<tr>\n",
       "  <th>Intercept</th>     <td>   -2.4740</td> <td>    0.462</td> <td>   -5.356</td> <td> 0.000</td> <td>   -3.379</td> <td>   -1.569</td>\n",
       "</tr>\n",
       "<tr>\n",
       "  <th>np.log(price)</th> <td>    0.2303</td> <td>    0.088</td> <td>    2.628</td> <td> 0.009</td> <td>    0.059</td> <td>    0.402</td>\n",
       "</tr>\n",
       "<tr>\n",
       "  <th>stars</th>         <td>    0.5275</td> <td>    0.090</td> <td>    5.831</td> <td> 0.000</td> <td>    0.350</td> <td>    0.705</td>\n",
       "</tr>\n",
       "<tr>\n",
       "  <th>distance</th>      <td>    0.0328</td> <td>    0.020</td> <td>    1.664</td> <td> 0.096</td> <td>   -0.006</td> <td>    0.071</td>\n",
       "</tr>\n",
       "</table>"
      ],
      "text/latex": [
       "\\begin{center}\n",
       "\\begin{tabular}{lclc}\n",
       "\\toprule\n",
       "\\textbf{Dep. Variable:}   &  highly\\_rated   & \\textbf{  No. Observations:  } &      430    \\\\\n",
       "\\textbf{Model:}           &      Probit      & \\textbf{  Df Residuals:      } &      426    \\\\\n",
       "\\textbf{Method:}          &       MLE        & \\textbf{  Df Model:          } &        3    \\\\\n",
       "\\textbf{Date:}            & Wed, 06 Dec 2023 & \\textbf{  Pseudo R-squ.:     } &   0.1115    \\\\\n",
       "\\textbf{Time:}            &     14:34:16     & \\textbf{  Log-Likelihood:    } &   -241.07   \\\\\n",
       "\\textbf{converged:}       &       True       & \\textbf{  LL-Null:           } &   -271.33   \\\\\n",
       "\\textbf{Covariance Type:} &    nonrobust     & \\textbf{  LLR p-value:       } & 4.551e-13   \\\\\n",
       "\\bottomrule\n",
       "\\end{tabular}\n",
       "\\begin{tabular}{lcccccc}\n",
       "                       & \\textbf{coef} & \\textbf{std err} & \\textbf{z} & \\textbf{P$> |$z$|$} & \\textbf{[0.025} & \\textbf{0.975]}  \\\\\n",
       "\\midrule\n",
       "\\textbf{Intercept}     &      -2.4740  &        0.462     &    -5.356  &         0.000        &       -3.379    &       -1.569     \\\\\n",
       "\\textbf{np.log(price)} &       0.2303  &        0.088     &     2.628  &         0.009        &        0.059    &        0.402     \\\\\n",
       "\\textbf{stars}         &       0.5275  &        0.090     &     5.831  &         0.000        &        0.350    &        0.705     \\\\\n",
       "\\textbf{distance}      &       0.0328  &        0.020     &     1.664  &         0.096        &       -0.006    &        0.071     \\\\\n",
       "\\bottomrule\n",
       "\\end{tabular}\n",
       "%\\caption{Probit Regression Results}\n",
       "\\end{center}"
      ],
      "text/plain": [
       "<class 'statsmodels.iolib.summary.Summary'>\n",
       "\"\"\"\n",
       "                          Probit Regression Results                           \n",
       "==============================================================================\n",
       "Dep. Variable:           highly_rated   No. Observations:                  430\n",
       "Model:                         Probit   Df Residuals:                      426\n",
       "Method:                           MLE   Df Model:                            3\n",
       "Date:                Wed, 06 Dec 2023   Pseudo R-squ.:                  0.1115\n",
       "Time:                        14:34:16   Log-Likelihood:                -241.07\n",
       "converged:                       True   LL-Null:                       -271.33\n",
       "Covariance Type:            nonrobust   LLR p-value:                 4.551e-13\n",
       "=================================================================================\n",
       "                    coef    std err          z      P>|z|      [0.025      0.975]\n",
       "---------------------------------------------------------------------------------\n",
       "Intercept        -2.4740      0.462     -5.356      0.000      -3.379      -1.569\n",
       "np.log(price)     0.2303      0.088      2.628      0.009       0.059       0.402\n",
       "stars             0.5275      0.090      5.831      0.000       0.350       0.705\n",
       "distance          0.0328      0.020      1.664      0.096      -0.006       0.071\n",
       "=================================================================================\n",
       "\"\"\""
      ]
     },
     "execution_count": 29,
     "metadata": {},
     "output_type": "execute_result"
    }
   ],
   "source": [
    "probit_result.summary()"
   ]
  },
  {
   "cell_type": "markdown",
   "metadata": {},
   "source": [
    "### Probit Regression Results\n",
    "\n",
    "The probit regression model looks at the probability that a hotel is \"highly_rated\" based on the predictive variables. \n",
    "\n",
    "`log(price)`: this variable has a coefficient of 0.2303, indicating that an increase in `log(price)` is associated with an increase in the z-score by 0.2303 standard deviations. Additionally, with a p-value below the 1% threshold, this is statistically significant. This indicates that an increase in `log(price)` is associated with an increase in the probability of a hotel being highly rated. \n",
    "\n",
    "`stars`: this variable has a coefficient of 0.5275, indicating that an increase in `stars` is associated with an increase in the z-score by 0.5275 standard deviations. Additionally, the p-value is below the 1% threshold, which is statistically significant. This indicates that an increase in `stars` is associated with an increase in the probability of a hotel being highly rated. \n",
    "\n",
    "`distance`: this variable has a coefficient of 0.0328, indicating that an increase in `distance` is associated with an increase in the z-score by 0.0328 standard deviations. This is quite a small amount, and with a p-value above the 5% threshold, this is not statistically significant. This indicates that a change in `distance` is not necessarily associated with a change in the probability of a hotel being highly rated. "
   ]
  },
  {
   "cell_type": "code",
   "execution_count": 30,
   "metadata": {
    "tags": []
   },
   "outputs": [
    {
     "data": {
      "text/plain": [
       "count    430.000000\n",
       "mean       0.675236\n",
       "std        0.170882\n",
       "min        0.133200\n",
       "25%        0.556709\n",
       "50%        0.684207\n",
       "75%        0.807929\n",
       "max        0.981833\n",
       "Name: pred_probit, dtype: float64"
      ]
     },
     "execution_count": 30,
     "metadata": {},
     "output_type": "execute_result"
    }
   ],
   "source": [
    "merged_hotel_data_moscow[\"pred_probit\"] = probit_result.predict()\n",
    "merged_hotel_data_moscow[\"pred_probit\"].describe()"
   ]
  },
  {
   "cell_type": "code",
   "execution_count": 31,
   "metadata": {
    "tags": []
   },
   "outputs": [
    {
     "data": {
      "text/html": [
       "<table class=\"simpletable\">\n",
       "<caption>Probit Marginal Effects</caption>\n",
       "<tr>\n",
       "  <th>Dep. Variable:</th> <td>highly_rated</td>\n",
       "</tr>\n",
       "<tr>\n",
       "  <th>Method:</th>            <td>dydx</td>    \n",
       "</tr>\n",
       "<tr>\n",
       "  <th>At:</th>               <td>overall</td>  \n",
       "</tr>\n",
       "</table>\n",
       "<table class=\"simpletable\">\n",
       "<tr>\n",
       "        <th></th>           <th>dy/dx</th>    <th>std err</th>      <th>z</th>      <th>P>|z|</th>  <th>[0.025</th>    <th>0.975]</th>  \n",
       "</tr>\n",
       "<tr>\n",
       "  <th>np.log(price)</th> <td>    0.0732</td> <td>    0.027</td> <td>    2.689</td> <td> 0.007</td> <td>    0.020</td> <td>    0.127</td>\n",
       "</tr>\n",
       "<tr>\n",
       "  <th>stars</th>         <td>    0.1676</td> <td>    0.025</td> <td>    6.586</td> <td> 0.000</td> <td>    0.118</td> <td>    0.218</td>\n",
       "</tr>\n",
       "<tr>\n",
       "  <th>distance</th>      <td>    0.0104</td> <td>    0.006</td> <td>    1.674</td> <td> 0.094</td> <td>   -0.002</td> <td>    0.023</td>\n",
       "</tr>\n",
       "</table>"
      ],
      "text/latex": [
       "\\begin{center}\n",
       "\\begin{tabular}{lc}\n",
       "\\toprule\n",
       "\\textbf{Dep. Variable:} & highly\\_rated   \\\\\n",
       "\\textbf{Method:}        &      dydx       \\\\\n",
       "\\textbf{At:}            &    overall      \\\\\n",
       "\\bottomrule\n",
       "\\end{tabular}\n",
       "\\begin{tabular}{ccccccc}\n",
       "      \\textbf{}        & \\textbf{dy/dx} & \\textbf{std err} & \\textbf{z} & \\textbf{P$> |$z$|$} & \\textbf{[0.025} & \\textbf{0.975]}  \\\\\n",
       "\\midrule\n",
       "\\bottomrule\n",
       "\\end{tabular}\n",
       "\\begin{tabular}{lcccccc}\n",
       "\\textbf{np.log(price)} &       0.0732   &        0.027     &     2.689  &         0.007        &        0.020    &        0.127     \\\\\n",
       "\\textbf{stars}         &       0.1676   &        0.025     &     6.586  &         0.000        &        0.118    &        0.218     \\\\\n",
       "\\textbf{distance}      &       0.0104   &        0.006     &     1.674  &         0.094        &       -0.002    &        0.023     \\\\\n",
       "\\bottomrule\n",
       "\\end{tabular}\n",
       "%\\caption{Probit Marginal Effects}\n",
       "\\end{center}"
      ],
      "text/plain": [
       "<class 'statsmodels.iolib.summary.Summary'>\n",
       "\"\"\"\n",
       "       Probit Marginal Effects       \n",
       "=====================================\n",
       "Dep. Variable:           highly_rated\n",
       "Method:                          dydx\n",
       "At:                           overall\n",
       "=================================================================================\n",
       "                   dy/dx    std err          z      P>|z|      [0.025      0.975]\n",
       "---------------------------------------------------------------------------------\n",
       "np.log(price)     0.0732      0.027      2.689      0.007       0.020       0.127\n",
       "stars             0.1676      0.025      6.586      0.000       0.118       0.218\n",
       "distance          0.0104      0.006      1.674      0.094      -0.002       0.023\n",
       "=================================================================================\n",
       "\"\"\""
      ]
     },
     "execution_count": 31,
     "metadata": {},
     "output_type": "execute_result"
    }
   ],
   "source": [
    "probit_margef_results = probit_result.get_margeff()\n",
    "probit_margef_results.summary()"
   ]
  },
  {
   "cell_type": "markdown",
   "metadata": {},
   "source": [
    "### Probit Marginal Effects Interpretation\n",
    "\n",
    "`log(price)`: with a dy/dx of 0.0732, this suggests that for a 1% increase in `price`, the probability that a hotel is highly rated increases by 7.32%, ceteris paribus. This is a statistically significant association, with a p-value below the 1% threshold. \n",
    "\n",
    "`stars`: with a dy/dx of 0.1676, this suggests that for a 1 star increase in `stars`, the probability that a hotel is highly rated increases by 16.76%, ceteris paribus. This is a statistically significant association, with a p.value below the 1% threshold. \n",
    "\n",
    "`distance`: with a dy/dx of 0.0104, this suggests that for a 1 unit increase in `distance`, the probability that a hotel is highly rated increases by 1.04%, ceteris paribus. This is not statistically significant, with a p-value above the 5% threshold. "
   ]
  },
  {
   "cell_type": "code",
   "execution_count": 32,
   "metadata": {
    "tags": []
   },
   "outputs": [],
   "source": [
    "df_plot = pd.melt(\n",
    "    merged_hotel_data_moscow[[\"pred_lpm\", \"pred_logit\", \"pred_probit\"]].rename(\n",
    "        columns={\"pred_logit\": \"Logit\", \"pred_probit\": \"Probit\"}\n",
    "    ),\n",
    "    value_vars=[\"Logit\", \"Probit\"],\n",
    "    id_vars=[\"pred_lpm\"],\n",
    ").sort_values(by=[\"variable\"], ascending=False)"
   ]
  },
  {
   "cell_type": "code",
   "execution_count": 33,
   "metadata": {
    "tags": []
   },
   "outputs": [
    {
     "name": "stderr",
     "output_type": "stream",
     "text": [
      "C:\\Users\\iandr\\anaconda3\\Lib\\site-packages\\plotnine\\layer.py:364: PlotnineWarning: geom_point : Removed 30 rows containing missing values.\n"
     ]
    },
    {
     "data": {
      "image/png": "[encoded data removed]",
      "text/plain": [
       "<Figure size 640x480 with 1 Axes>"
      ]
     },
     "metadata": {
      "image/png": {
       "height": 480,
       "width": 640
      }
     },
     "output_type": "display_data"
    },
    {
     "data": {
      "text/plain": [
       "<Figure Size: (640 x 480)>"
      ]
     },
     "execution_count": 33,
     "metadata": {},
     "output_type": "execute_result"
    }
   ],
   "source": [
    "color = [\"#1f77b4\", \"#ff7f0e\", \"#b15933\"]\n",
    "\n",
    "g2 = (\n",
    "    ggplot(df_plot, aes(x=\"pred_lpm\", y=\"value\", color=\"variable\"))\n",
    "    + geom_point(size=0.6)\n",
    "    + geom_abline(color=color[2], intercept=0, slope=1, size=1)\n",
    "    + labs(\n",
    "        x=\"Predicted probability of a highly rated hotel\", y=\"Predicted probability\"\n",
    "    )\n",
    "    + scale_y_continuous(expand=[0.00, 0.0], limits=[0, 1], breaks=np.arange(0, 1.1, 0.1))\n",
    "    + scale_x_continuous(expand=[0.00, 0.0], limits=[0, 1], breaks=np.arange(0, 1.1, 0.1))\n",
    "    + scale_color_manual(values=[color[0], color[1]])\n",
    "    + theme_bw()\n",
    "    + theme(\n",
    "        legend_title=element_blank(),\n",
    "        legend_direction=\"horizontal\",\n",
    "        legend_position=(0.75, 0.25),\n",
    "        legend_background=element_blank(),\n",
    "    )\n",
    ")\n",
    "g2"
   ]
  },
  {
   "cell_type": "code",
   "execution_count": null,
   "metadata": {},
   "outputs": [],
   "source": []
  },
  {
   "cell_type": "code",
   "execution_count": null,
   "metadata": {},
   "outputs": [],
   "source": []
  },
  {
   "cell_type": "code",
   "execution_count": null,
   "metadata": {},
   "outputs": [],
   "source": []
  }
 ],
 "metadata": {
  "kernelspec": {
   "display_name": "Python 3 (ipykernel)",
   "language": "python",
   "name": "python3"
  },
  "language_info": {
   "codemirror_mode": {
    "name": "ipython",
    "version": 3
   },
   "file_extension": ".py",
   "mimetype": "text/x-python",
   "name": "python",
   "nbconvert_exporter": "python",
   "pygments_lexer": "ipython3",
   "version": "3.11.4"
  }
 },
 "nbformat": 4,
 "nbformat_minor": 4
}
